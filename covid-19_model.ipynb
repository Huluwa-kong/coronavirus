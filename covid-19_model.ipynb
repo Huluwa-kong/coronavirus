{
 "cells": [
  {
   "cell_type": "markdown",
   "metadata": {
    "slideshow": {
     "slide_type": "slide"
    }
   },
   "source": [
    "# Coronavirus: The Simplest Model\n",
    "\n",
    "Tom Nicholas\n",
    "\n",
    "20/03/2020"
   ]
  },
  {
   "cell_type": "markdown",
   "metadata": {
    "slideshow": {
     "slide_type": "slide"
    }
   },
   "source": [
    "---\n",
    "## DISCLAIMER\n",
    "\n",
    "I am not an epidemiologist! This model is for understanding and tutorial purposes only. It is not suitable for predictions or decision-making, and excludes many important considerations (some of which are listed below). It is intended primarily as an example of the power of basic programming in modelling a real-world problem, and an introduction to the mathematics of the spread of disease.\n",
    "\n",
    "We will be able to use this basic model to reproduce the essence of some of the modelling results that appear in headlines and widely-shared articles at the moment, but this particular model is only meant to help you understand how those authors might have arrived at those conclusions. While the general trends indicated are indicative, the absolute numbers aren't necessarily.\n",
    "\n",
    "It's also important to understand that most of the cases shown here assume that we do not manage to stamp out the virus in first month or so of infection, and so are worst-case scenarios. The model we're using is only representative of situations which might occur after that initial chance to stop a widespread epidemic is missed.\n",
    "\n",
    "A similar but more detailed model created by an actual epidemiologist is [here](https://twitter.com/alison_l_hill/status/1239072817678823425).\n",
    "For general information about the Coronavirus and advice for the public see the [World Health Organisation website](https://www.who.int/emergencies/diseases/novel-coronavirus-2019/advice-for-public/).\n",
    "\n",
    "---"
   ]
  },
  {
   "cell_type": "markdown",
   "metadata": {
    "slideshow": {
     "slide_type": "slide"
    }
   },
   "source": [
    "## Susceptible-Infected-Recovered-Deceased model\n",
    "\n",
    "The simplest model appropriate for an influenza-type disease is called the SIRD model.\n",
    "It breaks the population up into those who are Susceptible to becoming infected, those who are Infected, those who are Recovered, and those who are Deceased.\n",
    "\n",
    "The SIRD model is suitable for the novel coronavirus if we assume that those who have recovered from the infection are henceforth immune to becoming infected again (otherwise they would return to the Suceptible population)."
   ]
  },
  {
   "cell_type": "markdown",
   "metadata": {
    "slideshow": {
     "slide_type": "slide"
    }
   },
   "source": [
    "### Equations of the SIRD model\n",
    "\n",
    "We follow the description of the SIRD model laid out in [Hethcote (1989)](http://www.mtholyoke.edu/~ahoyerle/math333/ThreeBasicModels.pdf)."
   ]
  },
  {
   "cell_type": "markdown",
   "metadata": {
    "slideshow": {
     "slide_type": "subslide"
    }
   },
   "source": [
    "The susceptible population $NS(t)$ decreases through contact with infected, at a rate given by $\\lambda$:\n",
    "\n",
    "\\begin{equation}\n",
    "\\frac{d(NS)}{dt} = -\\lambda S N I\n",
    "\\end{equation}"
   ]
  },
  {
   "cell_type": "markdown",
   "metadata": {
    "slideshow": {
     "slide_type": "fragment"
    }
   },
   "source": [
    "$\\lambda$ is the \"daily contact rate\", which means that if everyone were suceptible and uninfected, one infected person would infect $\\lambda$ people per day. So the average number of susceptibles infected by an infectious person per day is $\\lambda S$."
   ]
  },
  {
   "cell_type": "markdown",
   "metadata": {
    "slideshow": {
     "slide_type": "subslide"
    }
   },
   "source": [
    "The infected population $NI(t)$ increases through contact with infected (at a rate set by $\\lambda$), decreases through recovery, at a rate $\\gamma$, and also decreases through death, at a rate $\\mu$.\n",
    "\n",
    "\\begin{equation}\n",
    "\\frac{d(NI)}{dt} = \\lambda S N I - \\gamma N I - \\mu N I\n",
    "\\end{equation}"
   ]
  },
  {
   "cell_type": "markdown",
   "metadata": {
    "slideshow": {
     "slide_type": "fragment"
    }
   },
   "source": [
    "What does $\\gamma$ mean? Individuals recover and are removed from the infective class at a rate proportional to the number of infectives with proportionality constant $\\gamma$, called the daily recovery removal rate.\n",
    "\n",
    "The latent period is zero (it is defined as the period between the time of exposure and the time when infectiousness begins).\n",
    "Thus the proportion of individuals exposed (and immediately infective) at time $t_0$ who are still infective at time $t_0 + t$ is $\\exp(-\\gamma t)$, and the average period of infectivity is $P=1/\\gamma$."
   ]
  },
  {
   "cell_type": "markdown",
   "metadata": {
    "slideshow": {
     "slide_type": "subslide"
    }
   },
   "source": [
    "The recovered population $NR(t)$ increases when members of the infected population recover. We assume (for now) that all recovered people are henceforth immune to being infected a second time.\n",
    "\n",
    "\\begin{equation}\n",
    "\\frac{d(NR)}{dt} = \\gamma I N\n",
    "\\end{equation}"
   ]
  },
  {
   "cell_type": "markdown",
   "metadata": {
    "slideshow": {
     "slide_type": "subslide"
    }
   },
   "source": [
    "The deceased population $ND(t)$ increases through death at a rate $\\mu$\n",
    "\\begin{equation}\n",
    "\\frac{d(ND)}{dt} = \\mu I N\n",
    "\\end{equation}"
   ]
  },
  {
   "cell_type": "markdown",
   "metadata": {
    "slideshow": {
     "slide_type": "fragment"
    }
   },
   "source": [
    "Members of the infected population leave $I(t)$ either by recovering (at a rate $\\gamma$), or dying (at a rate $\\mu$).\n",
    "Therefore the chance of an infected individual dying (the average mortality) is $M=\\mu/\\gamma$."
   ]
  },
  {
   "cell_type": "markdown",
   "metadata": {
    "slideshow": {
     "slide_type": "subslide"
    }
   },
   "source": [
    "The \"basic reproductive number\" (also known as \"contact number\") $R_0$ is defined as $R_0=\\lambda / (\\gamma + \\mu)$. This comes from the fact that accounting for the deaths of infected gives a death-adjusted average period of infectivity of $1/(\\gamma + \\mu)$, and multiplying that time period by the daily contact rate $\\lambda$."
   ]
  },
  {
   "cell_type": "markdown",
   "metadata": {
    "slideshow": {
     "slide_type": "subslide"
    }
   },
   "source": [
    "The fact that the membership of all groups together must add up to the total population is expressed as\n",
    "\\begin{equation}\n",
    "NS + NI + NR + ND = N\n",
    "\\end{equation}\n",
    "We've also assumed that the total population is constant (including deceased), and that the epidemic occurs in a timeframe much shorter than that over which natural births and deaths significantly affect any of the populations."
   ]
  },
  {
   "cell_type": "markdown",
   "metadata": {
    "slideshow": {
     "slide_type": "subslide"
    }
   },
   "source": [
    "Now we can simplify our equations by dividing through by $N$\n",
    "\n",
    "\\begin{align}\n",
    "\\frac{dS}{dt} & = -\\lambda S I \\\\\n",
    "\\frac{dI}{dt} & = \\lambda S I - \\gamma I - \\mu I \\\\\n",
    "\\frac{dR}{dt} & = \\gamma I \\\\\n",
    "\\frac{dD}{dt} & = \\mu I \n",
    "\\end{align}\n",
    "\n",
    "and we also have the boundary condition\n",
    "\\begin{equation}\n",
    "S + I + R + D = 1\n",
    "\\end{equation}"
   ]
  },
  {
   "cell_type": "markdown",
   "metadata": {
    "slideshow": {
     "slide_type": "subslide"
    }
   },
   "source": [
    "Diagrammatically, these equations reqpresent a set of states ($S$, $I$, $R$ & $D$), connected by transfer rates ($\\lambda SI$, $\\gamma I$, $\\mu I$):\n",
    "\n",
    "![levels](SIRD_states.png)"
   ]
  },
  {
   "cell_type": "markdown",
   "metadata": {
    "slideshow": {
     "slide_type": "slide"
    }
   },
   "source": [
    "### Exponential growth\n",
    "\n",
    "Before we even write any code we can already identify the main feature of these equations: the number of Infected will grow exponentially.\n",
    "\n",
    "Why? Exponential growth is when the rate of change of a quantity is proportional to the size of that quantity. If we assume that the recovery rate $\\gamma$ and death rate $\\mu$ are small compared to the infection rate $\\lambda S$, (and that the susceptible population is large enough that it is roughly constant to begin with) then at the start we have\n",
    "\\begin{align}\n",
    "\\frac{dI(t)}{dt} & = (\\lambda S - \\gamma - \\mu) I(t) \\\\\n",
    "                 & = \\lambda ( S - \\frac{(\\gamma + \\mu)}{\\lambda}) I(t) \\\\\n",
    "                 & = \\lambda ( S - \\frac{1}{R_0}) I(t)\n",
    "\\end{align}\n",
    "the solution of which is\n",
    "\\begin{equation}\n",
    "I(t) \\propto e^{~ \\lambda ( S - \\frac{1}{R_0}) I}\n",
    "\\end{equation}\n",
    "so as $\\lambda>0$ always, and at the beginning $S \\sim 1$, then the infection will grow exponentially if $R_0 > 1$."
   ]
  },
  {
   "cell_type": "markdown",
   "metadata": {
    "slideshow": {
     "slide_type": "slide"
    }
   },
   "source": [
    "## Solving the equations for the Coronavirus\n",
    "\n",
    "Okay let's try and model the coronavirus by solving these equations.\n",
    "\n",
    "Our equations are a system of linear ordinary differential equations, and we will start from a set of known initial values, so we're going to need `scipy`'s [`integrate.solve_ivp`](https://docs.scipy.org/doc/scipy/reference/generated/scipy.integrate.solve_ivp.html) function. "
   ]
  },
  {
   "cell_type": "code",
   "execution_count": 1,
   "metadata": {
    "slideshow": {
     "slide_type": "slide"
    }
   },
   "outputs": [],
   "source": [
    "from scipy.integrate import solve_ivp\n",
    "import seaborn as sns; sns.set()\n",
    "import matplotlib.pyplot as plt\n",
    "import numpy as np"
   ]
  },
  {
   "cell_type": "markdown",
   "metadata": {
    "slideshow": {
     "slide_type": "slide"
    }
   },
   "source": [
    "### Population parameters"
   ]
  },
  {
   "cell_type": "markdown",
   "metadata": {
    "slideshow": {
     "slide_type": "fragment"
    }
   },
   "source": [
    "We need to pick initial conditions, which are the number of people in each population (susceptible, infected etc.) to start from.\n",
    "Here we will model the UK, but we can get the up-to-date numbers for any country from [this website](https://www.worldometers.info/coronavirus/countries-where-coronavirus-has-spread/), which is updated daily."
   ]
  },
  {
   "cell_type": "code",
   "execution_count": 2,
   "metadata": {
    "slideshow": {
     "slide_type": "subslide"
    }
   },
   "outputs": [],
   "source": [
    "# Reported UK coronavirus numbers on 18th March 2020\n",
    "# cases means total reported cases including resolved\n",
    "uk_initial_conditions = {'population': 66440000,\n",
    "                         'cases': 2626,\n",
    "                         'deaths': 104,\n",
    "                         'recovered': 65}"
   ]
  },
  {
   "cell_type": "markdown",
   "metadata": {
    "slideshow": {
     "slide_type": "subslide"
    }
   },
   "source": [
    "### Virus parameters"
   ]
  },
  {
   "cell_type": "markdown",
   "metadata": {
    "slideshow": {
     "slide_type": "fragment"
    }
   },
   "source": [
    "We also need parameters which describe the properties of the coronavirus.\n",
    "\n",
    "The basic reproductive rate of the virus $R_0$ (in the absence of any social distancing measures) has been [estimated to be between 2.0-2.6](https://www.imperial.ac.uk/media/imperial-college/medicine/sph/ide/gida-fellowships/Imperial-College-COVID19-NPI-modelling-16-03-2020.pdf?fbclid=IwAR1j0zcv_htn0A6OHNGhDkV5Facsz_jLVJxYtel7MEl1b7VvBsPgnkcXMAM), and we'll use 2.4.\n",
    "\n",
    "For the mortality we'll use an average of 1%, as a rough representation of the value [of 1.4% case fatality rate given here](https://www.researchsquare.com/article/rs-17453/v1).\n",
    "\n",
    "We'll use 14 days for the average infectious period."
   ]
  },
  {
   "cell_type": "markdown",
   "metadata": {
    "slideshow": {
     "slide_type": "subslide"
    }
   },
   "source": [
    "Let's write out the equations for the derivatives we need to calculate, then create a class which will set up the problem, solve it, and plot the solution."
   ]
  },
  {
   "cell_type": "code",
   "execution_count": 3,
   "metadata": {
    "slideshow": {
     "slide_type": "fragment"
    }
   },
   "outputs": [],
   "source": [
    "class SIRD:\n",
    "    def __init__(self, R0, M, P):\n",
    "        # Model parameters\n",
    "        self.R0 = R0\n",
    "        self.M = M\n",
    "        self.P = P\n",
    "\n",
    "    def dSdt(self, S, I, lamb):\n",
    "        return -lamb*S*I\n",
    "\n",
    "    def dIdt(self, S, I, lamb, gamma, mu):\n",
    "        return lamb*S*I - gamma*I - mu*I\n",
    "\n",
    "    def dRdt(self, I, gamma):\n",
    "        return gamma*I\n",
    "\n",
    "    def dDdt(self, I, mu):\n",
    "        return mu*I\n",
    "        \n",
    "    def eqns(self, t, y, lamb, gamma, mu):\n",
    "        S, I, R, D = y\n",
    "        return [self.dSdt(S, I, lamb),\n",
    "                self.dIdt(S, I, lamb, gamma, mu), \n",
    "                self.dRdt(I, gamma),\n",
    "                self.dDdt(I, mu)]\n",
    "    \n",
    "    def setup(self, population, cases, recovered, deaths):\n",
    "        # Compute initial values\n",
    "        self.population = population\n",
    "        initial_S = (population - cases) / population\n",
    "        initial_R = recovered / population \n",
    "        initial_D = deaths / population\n",
    "        initial_I = 1 - initial_S - initial_R - initial_D\n",
    "        self.y0 = [initial_S, initial_I, initial_R, initial_D]\n",
    "\n",
    "        # Compute coefficients\n",
    "        self.gamma = 1 / self.P\n",
    "        self.mu = self.gamma * self.M\n",
    "        self.lamb = self.R0 * (self.gamma + self.mu)\n",
    "\n",
    "    def solve(self, initial_conditions, tf=300):\n",
    "        \n",
    "        self.setup(initial_conditions['population'],\n",
    "                   initial_conditions['cases'],\n",
    "                   initial_conditions['recovered'],\n",
    "                   initial_conditions['deaths'])\n",
    "        \n",
    "        t_span = (0, tf)  # tf is number of days to run simulation for, defaulting to 300\n",
    "    \n",
    "        self.soln = solve_ivp(self.eqns, t_span, self.y0,\n",
    "                              args=(self.lamb, self.gamma, self.mu),\n",
    "                              t_eval=np.linspace(0, tf, tf*2))\n",
    "        return self\n",
    "    \n",
    "    def plot(self, ax=None, susceptible=True):\n",
    "        S, I, R, D = self.soln.y\n",
    "        t = self.soln.t\n",
    "        N = self.population\n",
    "\n",
    "        print(f\"For a population of {N} people, after {t[-1]:.0f} days there were:\")\n",
    "        print(f\"{D[-1]*100:.1f}% total deaths, or {D[-1]*N:.0f} people.\")\n",
    "        print(f\"{R[-1]*100:.1f}% total recovered, or {R[-1]*N:.0f} people.\")\n",
    "        print(f\"At the virus' maximum {I.max()*100:.1f}% people were simultaneously infected, or {I.max()*N:.0f} people.\")\n",
    "        print(f\"After {t[-1]:.0f} days the virus was present in less than {I[-1]*N:.0f} individuals.\")\n",
    "\n",
    "        if ax is None:\n",
    "            fig, ax = plt.subplots()\n",
    "        \n",
    "        ax.set_title(\"Covid-19 spread\")\n",
    "        ax.set_xlabel(\"Time [days]\")\n",
    "        ax.set_ylabel(\"Number\")\n",
    "        if susceptible:\n",
    "            ax.plot(t, S*N, label=\"Susceptible\", linewidth=2, color='blue')\n",
    "        ax.plot(t, I*N, label=\"Infected\", linewidth=2, color='orange')\n",
    "        ax.plot(t, R*N, label=\"Recovered\", linewidth=2, color='green')\n",
    "        ax.plot(t, D*N, label=\"Deceased\", linewidth=2, color='black')\n",
    "        ax.legend()\n",
    "\n",
    "        return ax"
   ]
  },
  {
   "cell_type": "markdown",
   "metadata": {
    "slideshow": {
     "slide_type": "subslide"
    }
   },
   "source": [
    "We initialise this with our choice of model coefficients"
   ]
  },
  {
   "cell_type": "code",
   "execution_count": 4,
   "metadata": {
    "slideshow": {
     "slide_type": "fragment"
    }
   },
   "outputs": [],
   "source": [
    "R0 = 2.4   # Basic Reproductive Rate [people]\n",
    "M = 0.01   # Mortality ratio [fraction]\n",
    "P = 14     # Average infectious period [days] (should really be split up by case severity)\n",
    "sird = SIRD(R0, M, P)"
   ]
  },
  {
   "cell_type": "markdown",
   "metadata": {
    "slideshow": {
     "slide_type": "subslide"
    }
   },
   "source": [
    "and now solve the model forward in time"
   ]
  },
  {
   "cell_type": "code",
   "execution_count": 5,
   "metadata": {
    "slideshow": {
     "slide_type": "subslide"
    }
   },
   "outputs": [
    {
     "name": "stdout",
     "output_type": "stream",
     "text": [
      "For a population of 66440000 people, after 300 days there were:\n",
      "0.9% total deaths, or 575261 people.\n",
      "86.6% total recovered, or 57515786 people.\n",
      "At the virus' maximum 21.8% people were simultaneously infected, or 14503231 people.\n",
      "After 300 days the virus was present in less than 1814 individuals.\n"
     ]
    },
    {
     "data": {
      "text/plain": [
       "<matplotlib.axes._subplots.AxesSubplot at 0x7f6a7cf00f10>"
      ]
     },
     "execution_count": 5,
     "metadata": {},
     "output_type": "execute_result"
    },
    {
     "data": {
      "image/png": "[encoded data removed]",
      "text/plain": [
       "<Figure size 432x288 with 1 Axes>"
      ]
     },
     "metadata": {
      "needs_background": "light"
     },
     "output_type": "display_data"
    }
   ],
   "source": [
    "sird.solve(uk_initial_conditions)\n",
    "sird.plot()"
   ]
  },
  {
   "cell_type": "markdown",
   "metadata": {
    "slideshow": {
     "slide_type": "slide"
    }
   },
   "source": [
    "## (Interactivity)\n",
    "\n",
    "We can use the ipywidgets library to make the inputs interactive (will only display if you're running the code in this notebook yourself)."
   ]
  },
  {
   "cell_type": "code",
   "execution_count": 6,
   "metadata": {
    "slideshow": {
     "slide_type": "subslide"
    }
   },
   "outputs": [],
   "source": [
    "from ipywidgets import interact, fixed\n",
    "from ipywidgets import IntSlider, IntRangeSlider, FloatSlider, Dropdown"
   ]
  },
  {
   "cell_type": "code",
   "execution_count": 7,
   "metadata": {
    "slideshow": {
     "slide_type": "fragment"
    }
   },
   "outputs": [],
   "source": [
    "P_slider = IntSlider(min=1, max=30, step=1, value=14)\n",
    "R0_slider = FloatSlider(min=0.1, max=15, step=0.1, value=2.6)\n",
    "M_slider = FloatSlider(min=0.001, max=0.05, step=0.001, value=0.035)"
   ]
  },
  {
   "cell_type": "code",
   "execution_count": 8,
   "metadata": {
    "slideshow": {
     "slide_type": "subslide"
    }
   },
   "outputs": [
    {
     "data": {
      "application/vnd.jupyter.widget-view+json": {
       "model_id": "8657680982934ef383fda2ada8937574",
       "version_major": 2,
       "version_minor": 0
      },
      "text/plain": [
       "interactive(children=(FloatSlider(value=2.6, description='R0', max=15.0, min=0.1), FloatSlider(value=0.035, de…"
      ]
     },
     "metadata": {},
     "output_type": "display_data"
    }
   ],
   "source": [
    "@interact(R0=R0_slider, M=M_slider, P=P_slider,\n",
    "          initial_conditions=fixed(uk_initial_conditions),\n",
    "          continuous_update=False)\n",
    "def run_sird(R0, M, P, initial_conditions):\n",
    "    SIRD(R0, M, P).solve(initial_conditions).plot()"
   ]
  },
  {
   "cell_type": "markdown",
   "metadata": {
    "slideshow": {
     "slide_type": "slide"
    }
   },
   "source": [
    "## Social distancing\n",
    "\n",
    "How can social distancing help? \n",
    "\n",
    "Social distancing effectively reduces $R_0$. If $R_0=0$ (everyone lives alone in a box) then there would be no new infections, and the disease would die out once all the infected had either recovered or died."
   ]
  },
  {
   "cell_type": "markdown",
   "metadata": {
    "slideshow": {
     "slide_type": "subslide"
    }
   },
   "source": [
    "If $R_0 < 1$ then new people will still be infected, but not fast enough to sustain the virus, and the contagion will decay away."
   ]
  },
  {
   "cell_type": "markdown",
   "metadata": {
    "slideshow": {
     "slide_type": "fragment"
    }
   },
   "source": [
    "But if $R_0>1$, even if only a bit greater, than the virus will still grow exponentially.\n",
    "It will grow more slowly, but will still pick up pace, becoming faster and faster."
   ]
  },
  {
   "cell_type": "markdown",
   "metadata": {
    "slideshow": {
     "slide_type": "fragment"
    }
   },
   "source": [
    "So why do social distancing? If we can decrease $R_0$, in other words we can `#flattenthecurve`."
   ]
  },
  {
   "cell_type": "markdown",
   "metadata": {
    "slideshow": {
     "slide_type": "slide"
    }
   },
   "source": [
    "## Lockdown policies\n",
    "\n",
    "But just changing $R_0$ overall isn't realistic, it assumes that as soon as the virus was discovered, everyone who is near it practices social distancing immediately and indefinitely.\n",
    "What is more realistic is that once it's realised that the disease could cause an epidemic, governments encourage (or enforce) varying degrees of social distancing through policies like quarantining, lockdowns, banning large events, and working from home."
   ]
  },
  {
   "cell_type": "markdown",
   "metadata": {
    "slideshow": {
     "slide_type": "subslide"
    }
   },
   "source": [
    "How can we parameterise a change in the effectiveness of social distancing through policies like these?\n",
    "Let's try adjusting $R_0$ using a \"quarantine parameter\" $Q$.\n",
    "When $Q=0$ then the disease spreads freely, but when $Q=1$ we are on total lockdown and the disease can't spread at all."
   ]
  },
  {
   "cell_type": "markdown",
   "metadata": {
    "slideshow": {
     "slide_type": "fragment"
    }
   },
   "source": [
    "We can represent this by changing our equations for the fraction of susceptible and infected people to\n",
    "\n",
    "\\begin{align}\n",
    "\\frac{dS}{dt} & = -\\lambda(1 - Q) S I \\\\\n",
    "\\frac{dI}{dt} & = \\lambda(1 - Q) S I - \\gamma I - \\mu I\n",
    "\\end{align}"
   ]
  },
  {
   "cell_type": "markdown",
   "metadata": {
    "slideshow": {
     "slide_type": "subslide"
    }
   },
   "source": [
    "If we make $Q$ a function of time $Q=Q(t)$, then we can simulate the effect of varying the level of social distancing in response to the virus.\n",
    "\n",
    "We can model a sudden permanent lockdown by setting $Q=Q_0H(t-t_Q)$, where $H$ is the heaviside step function\n",
    "\\begin{equation} \n",
    "H(t) = \n",
    "  \\begin{cases} \n",
    "    0 & t\\lt t_Q \\\\\n",
    "    1 & t\\geq t_Q \n",
    "  \\end{cases}\n",
    "\\end{equation}\n",
    "This just means there are zero social distancing measures in place before day $t_Q$, and then immediate distancing measures of effectiveness $Q$ are enforced permanently from day $t_Q$."
   ]
  },
  {
   "cell_type": "markdown",
   "metadata": {
    "slideshow": {
     "slide_type": "fragment"
    }
   },
   "source": [
    "To model this, we need $\\frac{dS}{dt} = \\frac{d}{dt}S(Q(t-t_Q))$"
   ]
  },
  {
   "cell_type": "code",
   "execution_count": 9,
   "metadata": {
    "slideshow": {
     "slide_type": "subslide"
    }
   },
   "outputs": [],
   "source": [
    "class SIRDQ(SIRD):\n",
    "    def __init__(self, R0, M, P, Q0, tQ):\n",
    "        super().__init__(R0, M, P)\n",
    "        self.Q0 = Q0\n",
    "        self.tQ = tQ\n",
    "\n",
    "    def dSdt(self, S, I, lamb, Q):\n",
    "        return -lamb*(1-Q)*S*I\n",
    "\n",
    "    def dIdt(self, S, I, lamb, gamma, mu, Q):\n",
    "        return lamb*(1-Q)*S*I - gamma*I - mu*I\n",
    "    \n",
    "    def Q(self, t):\n",
    "        if t > self.tQ:\n",
    "            return self.Q0\n",
    "        else:\n",
    "            return 0\n",
    "\n",
    "    def eqns(self, t, y, lamb, gamma, mu):\n",
    "        S, I, R, D = y\n",
    "\n",
    "        return [self.dSdt(S, I, lamb, self.Q(t)),\n",
    "                self.dIdt(S, I, lamb, gamma, mu, self.Q(t)), \n",
    "                self.dRdt(I, gamma),\n",
    "                self.dDdt(I, mu)]\n",
    "    \n",
    "    def solve(self, initial_conditions, tf=300):\n",
    "        return super().solve(initial_conditions, tf)\n",
    "    \n",
    "    def plot(self, ax=None, susceptible=True):\n",
    "        ax = super().plot(ax, susceptible)\n",
    "        return plot_social_distancing_event(ax, self.Q0, self.tQ, 'Begin')"
   ]
  },
  {
   "cell_type": "code",
   "execution_count": 10,
   "metadata": {
    "slideshow": {
     "slide_type": "subslide"
    }
   },
   "outputs": [],
   "source": [
    "def plot_social_distancing_event(ax, Q0, t_Q, limit):\n",
    "    print(f\"{limit} social distancing of effectiveness {Q0} on day {t_Q}.\")\n",
    "    \n",
    "    # Mark intervention point\n",
    "    ax.axvline(x=t_Q, linewidth=2, color='black', linestyle='--')\n",
    "    ax.text(x=t_Q+5, y=0.8*ax.get_ylim()[1], s=f\"{limit} \\nSocial \\nDistancing \\n\")\n",
    "    return ax"
   ]
  },
  {
   "cell_type": "code",
   "execution_count": 11,
   "metadata": {
    "slideshow": {
     "slide_type": "subslide"
    }
   },
   "outputs": [
    {
     "name": "stdout",
     "output_type": "stream",
     "text": [
      "For a population of 66440000 people, after 300 days there were:\n",
      "0.3% total deaths, or 192619 people.\n",
      "29.0% total recovered, or 19251533 people.\n",
      "At the virus' maximum 5.8% people were simultaneously infected, or 3870304 people.\n",
      "After 300 days the virus was present in less than 38013 individuals.\n",
      "Begin social distancing of effectiveness 0.6 on day 75.\n"
     ]
    },
    {
     "data": {
      "text/plain": [
       "<matplotlib.axes._subplots.AxesSubplot at 0x7f6a7ca33490>"
      ]
     },
     "execution_count": 11,
     "metadata": {},
     "output_type": "execute_result"
    },
    {
     "data": {
      "image/png": "[encoded data removed]",
      "text/plain": [
       "<Figure size 432x288 with 1 Axes>"
      ]
     },
     "metadata": {
      "needs_background": "light"
     },
     "output_type": "display_data"
    }
   ],
   "source": [
    "SIRDQ(R0=2.4, M=0.01, P=14, Q0=0.6, tQ=75).solve(uk_initial_conditions).plot()"
   ]
  },
  {
   "cell_type": "markdown",
   "metadata": {
    "slideshow": {
     "slide_type": "subslide"
    }
   },
   "source": [
    "These policies might be implemented only once the virus has been spreading for a while."
   ]
  },
  {
   "cell_type": "code",
   "execution_count": 12,
   "metadata": {
    "slideshow": {
     "slide_type": "subslide"
    }
   },
   "outputs": [],
   "source": [
    "Q0_slider = FloatSlider(min=0.0, max=1.0, step=0.01, value=0.5)\n",
    "tQ_slider = IntSlider(min=0, max=300, value=75)"
   ]
  },
  {
   "cell_type": "code",
   "execution_count": 13,
   "metadata": {},
   "outputs": [
    {
     "data": {
      "application/vnd.jupyter.widget-view+json": {
       "model_id": "098bf844675b4b61b54cecac269063eb",
       "version_major": 2,
       "version_minor": 0
      },
      "text/plain": [
       "interactive(children=(FloatSlider(value=2.6, description='R0', max=15.0, min=0.1), FloatSlider(value=0.035, de…"
      ]
     },
     "metadata": {},
     "output_type": "display_data"
    }
   ],
   "source": [
    "@interact(R0=R0_slider, M=M_slider, P=P_slider, Q0=Q0_slider, tQ=tQ_slider, \n",
    "          initial_conditions=fixed(uk_initial_conditions),\n",
    "          continuous_update=False)\n",
    "def run_sirdq(R0, M, P, Q0, tQ, initial_conditions):\n",
    "    SIRDQ(R0, M, P, Q0, tQ).solve(initial_conditions).plot()"
   ]
  },
  {
   "cell_type": "markdown",
   "metadata": {
    "slideshow": {
     "slide_type": "fragment"
    }
   },
   "source": [
    "Or perhaps these policies will only be ramped up when there are lots of people infected. "
   ]
  },
  {
   "cell_type": "markdown",
   "metadata": {
    "slideshow": {
     "slide_type": "slide"
    }
   },
   "source": [
    "## Second wave?\n",
    "\n",
    "The deadliest part of the 1918 Spanish Flu epidemic was the second wave that remerged in the winter.\n",
    "\n",
    "Although it's yet not clear if Covid-19 is significantly affected by temperature, there are also fears that slacking off on isolation measures will trigger a second wave.\n",
    "\n",
    "Can we model this possibility?"
   ]
  },
  {
   "cell_type": "markdown",
   "metadata": {
    "slideshow": {
     "slide_type": "subslide"
    }
   },
   "source": [
    "Let's alter our $Q(t)$ to also stop isolation measures at a certain point in time. Let's call this time $t_{UQ}$ (for \"Un-Quarantine\"). Then $Q$ becomes\n",
    "\n",
    "\\begin{equation} \n",
    "Q(t) = \n",
    "  \\begin{cases} \n",
    "    0 & t\\lt t_Q \\\\\n",
    "    Q_0 & t_Q \\leq t \\lt t_{UQ} \\\\\n",
    "    0 & t\\geq t_{UQ}\n",
    "  \\end{cases}\n",
    "\\end{equation}"
   ]
  },
  {
   "cell_type": "code",
   "execution_count": 14,
   "metadata": {},
   "outputs": [],
   "source": [
    "class SIRDUQ(SIRDQ):\n",
    "    def __init__(self, R0, M, P, Q0, tQ, tUQ):\n",
    "        super().__init__(R0, M, P, Q0, tQ)\n",
    "        self.tUQ = tUQ\n",
    "\n",
    "    def Q(self, t):\n",
    "        if self.tQ < t <= self.tUQ:\n",
    "            return self.Q0\n",
    "        else:\n",
    "            return 0\n",
    "\n",
    "    def plot(self, ax=None):\n",
    "        ax = super().plot(ax)\n",
    "        return plot_social_distancing_event(ax, self.Q0, self.tUQ, 'End')"
   ]
  },
  {
   "cell_type": "code",
   "execution_count": 15,
   "metadata": {
    "slideshow": {
     "slide_type": "subslide"
    }
   },
   "outputs": [
    {
     "name": "stdout",
     "output_type": "stream",
     "text": [
      "For a population of 66440000 people, after 300 days there were:\n",
      "0.8% total deaths, or 532994 people.\n",
      "80.2% total recovered, or 53289019 people.\n",
      "At the virus' maximum 12.1% people were simultaneously infected, or 8052134 people.\n",
      "After 300 days the virus was present in less than 629758 individuals.\n",
      "Begin social distancing of effectiveness 0.7 on day 75.\n",
      "End social distancing of effectiveness 0.7 on day 150.\n"
     ]
    },
    {
     "data": {
      "text/plain": [
       "<matplotlib.axes._subplots.AxesSubplot at 0x7f6a7c4cd050>"
      ]
     },
     "execution_count": 15,
     "metadata": {},
     "output_type": "execute_result"
    },
    {
     "data": {
      "image/png": "[encoded data removed]",
      "text/plain": [
       "<Figure size 432x288 with 1 Axes>"
      ]
     },
     "metadata": {
      "needs_background": "light"
     },
     "output_type": "display_data"
    }
   ],
   "source": [
    "SIRDUQ(R0=2.4, M=0.01, P=14, Q0=0.7, tQ=75, tUQ=150).solve(uk_initial_conditions).plot()"
   ]
  },
  {
   "cell_type": "markdown",
   "metadata": {
    "slideshow": {
     "slide_type": "slide"
    }
   },
   "source": [
    "## Healthcare capacity"
   ]
  },
  {
   "cell_type": "markdown",
   "metadata": {
    "slideshow": {
     "slide_type": "subslide"
    }
   },
   "source": [
    "So far our model assumes that everyone who catches the virus continues to act normally, but has a $L=\\mu/\\gamma$ chance of dying.\n",
    "\n",
    "This is unrealistic for multiple important reasons, but one of those is that an individual's chance of survival depends greatly on whether there are sufficient medical resources available to tend to them. \n",
    "Any hospital, and the healthcare system as a whole, has a certain capacity for patients.\n",
    "If the demand for care greatly exceeds this capacity then patients will unfortunately recieve less of the care that they need.\n",
    "In reality, this comes about because a patient's chance of survival will depend on whether or not beds are available, how many patients doctors and nurses have to try and care for at once, and whether or not more specialist equipment such as intubators and Intensive Care Units are available.\n",
    "\n",
    "Trying to model the availability of doctors, nurses, beds, ICUs and so on is complicated, so here we will try and make the simplest model which still captures the essential idea of healthcare system capacity."
   ]
  },
  {
   "cell_type": "markdown",
   "metadata": {
    "slideshow": {
     "slide_type": "subslide"
    }
   },
   "source": [
    "We're going to use a simple, clear and constant metric to describe healthcare system capacity - the number of hospital beds available per person in the total population, $B$."
   ]
  },
  {
   "cell_type": "markdown",
   "metadata": {
    "slideshow": {
     "slide_type": "fragment"
    }
   },
   "source": [
    "We are then going to relate the number of infected people to the death rate via $B$.\n",
    "We'll do this by assuming that if the number of severely ill patients exceeds the number of beds available, the mortality rate for those patients will increase from $\\mu_B$ to a greater value $\\mu_{NB}$. We'll also assume that a fraction $f_S$ of infected cases are severe enough to require a bed in a hospital."
   ]
  },
  {
   "cell_type": "markdown",
   "metadata": {
    "slideshow": {
     "slide_type": "subslide"
    }
   },
   "source": [
    "So we set $\\mu=\\mu(I, B, \\beta, f_S)$, specifically\n",
    "\\begin{equation} \n",
    "\\mu(I) = \n",
    "  \\begin{cases} \n",
    "    \\mu_B & f_S I \\leq B \\\\\n",
    "    (\\mu_{NB}-\\mu_B)\\frac{(f_S I-B)}{f_S I} + \\mu_B & f_S I \\gt B\n",
    "  \\end{cases}\n",
    "\\end{equation}\n",
    "\n",
    "The reason for the complex expression when $I>B$ is because we're assuming that only those patients for whom there is no bed suffer the higher mortality rate. \n",
    "(If we didn't do this and simply used $\\mu_{NB}$ then exceeding the healthcare capacity by one person could dramatically increase the mortality for all patients, which is clearly not realistic, and could possibly also lead to weird oscillations in the model around $I=B$.)"
   ]
  },
  {
   "cell_type": "markdown",
   "metadata": {
    "slideshow": {
     "slide_type": "fragment"
    }
   },
   "source": [
    "We'll parameterise this in the model by setting $\\mu_{NB}=\\beta \\mu_B$, where $\\beta > 1$. So if the mortality rate for a patient without a hospital bed were twice that for a patient with one, $\\beta=2$."
   ]
  },
  {
   "cell_type": "code",
   "execution_count": 16,
   "metadata": {
    "slideshow": {
     "slide_type": "subslide"
    }
   },
   "outputs": [],
   "source": [
    "class SIRDQB(SIRDQ):\n",
    "    def __init__(self, R0, M, P, Q0, tQ, B, fS, beta):\n",
    "        super().__init__(R0, M, P, Q0, tQ)\n",
    "        self.B = B\n",
    "        self.fS = fS\n",
    "        self.beta = beta\n",
    "        \n",
    "    # Locally redefine mu(I)\n",
    "    def mu_I(self, I):\n",
    "        if I > self.B:\n",
    "            return ((self.beta - 1)*(I - self.B)/I + 1) * self.mu\n",
    "        else:\n",
    "            return self.mu\n",
    "    \n",
    "    def eqns(self, t, y, lamb, gamma, mu):\n",
    "        S, I, R, D = y\n",
    "    \n",
    "        return [self.dSdt(S, I, lamb, self.Q(t)),\n",
    "                self.dIdt(S, I, lamb, gamma, self.mu_I(I*self.fS), self.Q(t)), \n",
    "                self.dRdt(I, gamma),\n",
    "                self.dDdt(I, self.mu_I(I*self.fS))]\n",
    "\n",
    "    def plot(self, ax=None):\n",
    "        ax = super().plot(ax)\n",
    "        return plot_bed_capacity(ax, self.B, self.population)\n",
    "        \n",
    "def plot_bed_capacity(ax, B, N):\n",
    "    print(f\"Hospital bed capacity of {B*1000} beds per 1000 people.\")\n",
    "\n",
    "    ax.axhline(y=N*B, linewidth=2, color='red', linestyle='--')\n",
    "    ax.text(x=5, y=N*B, s=f\"Hospital \\nBed \\nCapacity \\n\")\n",
    "    return ax"
   ]
  },
  {
   "cell_type": "code",
   "execution_count": 17,
   "metadata": {
    "slideshow": {
     "slide_type": "subslide"
    }
   },
   "outputs": [],
   "source": [
    "B = 0.0024  # Hospital beds per person in the UK\n",
    "fS = 0.1   # Fraction of Covid-19 cases which are severe enough to require a bed\n",
    "beta = 2    # How many times more likely a severely-ill patient is to die without a bed as opposed to with one"
   ]
  },
  {
   "cell_type": "code",
   "execution_count": 18,
   "metadata": {
    "slideshow": {
     "slide_type": "subslide"
    }
   },
   "outputs": [
    {
     "name": "stdout",
     "output_type": "stream",
     "text": [
      "For a population of 66440000 people, after 300 days there were:\n",
      "0.0% total deaths, or 13693 people.\n",
      "2.0% total recovered, or 1359009 people.\n",
      "At the virus' maximum 0.4% people were simultaneously infected, or 258213 people.\n",
      "After 300 days the virus was present in less than 258213 individuals.\n",
      "Begin social distancing of effectiveness 0.5 on day 5.\n",
      "Hospital bed capacity of 2.4 beds per 1000 people.\n"
     ]
    },
    {
     "data": {
      "text/plain": [
       "<matplotlib.axes._subplots.AxesSubplot at 0x7f6a7c544950>"
      ]
     },
     "execution_count": 18,
     "metadata": {},
     "output_type": "execute_result"
    },
    {
     "data": {
      "image/png": "[encoded data removed]",
      "text/plain": [
       "<Figure size 432x288 with 1 Axes>"
      ]
     },
     "metadata": {
      "needs_background": "light"
     },
     "output_type": "display_data"
    }
   ],
   "source": [
    "SIRDQB(R0=2.4, M=0.01, P=14, Q0=0.5, tQ=5, B=B, fS=fS, beta=beta).solve(uk_initial_conditions).plot()"
   ]
  },
  {
   "cell_type": "markdown",
   "metadata": {
    "slideshow": {
     "slide_type": "slide"
    }
   },
   "source": [
    "## Flattening the curve\n",
    "\n",
    "You've probably heard about how we should all be practicing social distancing to help \"flatten the curve\".\n",
    "We're now in a position to model why flattening the curve helps."
   ]
  },
  {
   "cell_type": "code",
   "execution_count": 19,
   "metadata": {},
   "outputs": [],
   "source": [
    "def plot_curve_flattening(initial_conditions, \n",
    "                          R0, M, P, tQ, Q_values):\n",
    "    \n",
    "    tf = 500  # plot over longer period of time\n",
    "    \n",
    "    fig, [ax1, ax2] = plt.subplots(1, 2, figsize=(15, 5))\n",
    "    ax1.set_title(\"Flattening the curve\")\n",
    "    ax1.set_xlabel(\"Time [days]\")\n",
    "    ax1.set_ylabel(\"Number of severe cases\")\n",
    "    \n",
    "    N = initial_conditions['population']\n",
    "    \n",
    "    mortality = []\n",
    "    for Q0 in Q_values:\n",
    "        sirdqb = SIRDQB(R0, M, P, Q0, tQ, B, fS, beta)\n",
    "        sirdqb = sirdqb.solve(initial_conditions, tf)\n",
    "        \n",
    "        soln = sirdqb.soln\n",
    "        S, I, R, D = soln.y\n",
    "        t = soln.t\n",
    "    \n",
    "        # Flattened curves\n",
    "        ax1.plot(t, fS*I*N, linewidth=2)\n",
    "        ax1.text(x=t[np.argmax(I)]+7, y=N*fS*I.max(), s=f'Q={Q0}')\n",
    "        \n",
    "        mortality.append(D[-1]/R[-1])\n",
    "        \n",
    "    ax1 = plot_bed_capacity(ax1, B, N)\n",
    "    \n",
    "    # Mortality rates\n",
    "    ax2.set_title(\"Effect of flattening the curve on mortality rate\")\n",
    "    ax2.set_xlabel(\"Success of social distancing [Q]\")\n",
    "    ax2.set_ylabel(\"Overall mortality rate [deaths/cases]\")\n",
    "    ax2.plot(Q_values, mortality, linewidth=2, color='black')\n",
    "    \n",
    "    plt.show()"
   ]
  },
  {
   "cell_type": "code",
   "execution_count": 20,
   "metadata": {
    "slideshow": {
     "slide_type": "subslide"
    }
   },
   "outputs": [
    {
     "name": "stdout",
     "output_type": "stream",
     "text": [
      "Hospital bed capacity of 2.4 beds per 1000 people.\n"
     ]
    },
    {
     "data": {
      "image/png": "[encoded data removed]",
      "text/plain": [
       "<Figure size 1080x360 with 2 Axes>"
      ]
     },
     "metadata": {
      "needs_background": "light"
     },
     "output_type": "display_data"
    }
   ],
   "source": [
    "plot_curve_flattening(uk_initial_conditions, R0=2.6, M=0.01, P=14, tQ=0, \n",
    "                      Q_values=[0.0, 0.1, 0.2, 0.3, 0.4, 0.5, 0.55])"
   ]
  },
  {
   "cell_type": "markdown",
   "metadata": {
    "slideshow": {
     "slide_type": "subslide"
    }
   },
   "source": [
    "We can now see that the better our social distancing is, the fewer cases there are at once, minimising overload of the healthcare system, and so reducing the chance that those who contract Covid-19 die from it. Social distancing doesn't just decrease the number of people who will get infected, it also gives those who do get infected a better chance!"
   ]
  },
  {
   "cell_type": "markdown",
   "metadata": {
    "slideshow": {
     "slide_type": "slide"
    }
   },
   "source": [
    "## Protecting the vulnerable\n",
    "\n",
    "One of the biggest omissions of the this model so far is that there is no distinction made between vulnerable and not-so-vulnerable people.\n",
    "Instead the population is modelled as homogenous and evenly-mixed, with an overall average mortality.\n",
    "\n",
    "However, we know that Covid-19 is [far more dangerous](https://www.worldometers.info/coronavirus/coronavirus-age-sex-demographics/) to the elderly, to those with compromised immune systems, or with certain other pre-existing health conditions. We also know that the vast majority of cases in children and young people are mild.\n",
    "\n",
    "This property of the disease could help us to save lives, if we put measures in place designed specifically to protect the vulnerable from infection (e.g. quarantining care homes).\n",
    "\n",
    "How can we model this in the simplest possible way? We need to divide our susceptible $S(t)$ population into at least two groups, the vulnerable $S_{V}(t)$ and the non-vulnerable $S_{NV}(t)$. We also need to divide up our infected population $I(t)$ into $I_V(t)$ and $I_{NV}(t)$, because a demographically-averaged mortality rate is no longer applicable if most of the infected are not the vulnerable ones. Recovered and deceased populations do not need to be subdivided."
   ]
  },
  {
   "cell_type": "markdown",
   "metadata": {
    "slideshow": {
     "slide_type": "subslide"
    }
   },
   "source": [
    "To be able to control this subdivision of infection, the model needs a way to represent decreasing the transmission rate to the vulnerable specifically.\n",
    "Therefore, we have to split our averaged $\\lambda$ up according to whether it represents the rate of transmission from vulnerable to non-vulnerable, vulnerable to vulnerable etc.\n",
    "We'll also need to split up the death rate $\\mu$, and the recovery rate $\\gamma$."
   ]
  },
  {
   "cell_type": "markdown",
   "metadata": {
    "slideshow": {
     "slide_type": "subslide"
    }
   },
   "source": [
    "\\begin{align}\n",
    "\\frac{dS_V}{dt} & = -(\\lambda_{V-V}I_{V} + \\lambda_{NV-V}I_{NV}) S_V  \\\\\n",
    "\\frac{dS_{NV}}{dt} & = -(\\lambda_{V-NV}I_{V} + \\lambda_{NV-NV}I_{NV}) S_{NV} \\\\\n",
    "\\frac{dI_V}{dt} & = (\\lambda_{V-V} I_V + \\lambda_{NV-V} I_{NV}) S_V - \\gamma_V I_V - \\mu_V I_V \\\\\n",
    "\\frac{dI_{NV}}{dt} & = (\\lambda_{V-NV} I_V + \\lambda_{NV-NV} I_{NV}) S_{NV} - \\gamma_{NV} I_{NV} - \\mu_{NV} I_{NV} \\\\\n",
    "\\frac{dR}{dt} & = \\gamma_V I_V + \\gamma_{NV} I_{NV} \\\\\n",
    "\\frac{dD}{dt} & = \\mu_V I_V + \\mu_{NV} I_{NV}\n",
    "\\end{align}\n",
    "\n",
    "and the boundary condition becomes\n",
    "\\begin{equation}\n",
    "S_V + S_{NV} + I_V + I_{NV} + R + D = 1\n",
    "\\end{equation}"
   ]
  },
  {
   "cell_type": "markdown",
   "metadata": {
    "slideshow": {
     "slide_type": "subslide"
    }
   },
   "source": [
    "As an aside, if we wanted to subdivide the populations further (for example by age bracket), we would instead write $S(t)$ as a vector of subsceptible subpopulations $\\mathbf{S}(t)=(S_0(t), S_1(t), ...)$, and promote $\\lambda$ to be matrix."
   ]
  },
  {
   "cell_type": "markdown",
   "metadata": {
    "slideshow": {
     "slide_type": "fragment"
    }
   },
   "source": [
    "\\begin{align}\n",
    "\\frac{dS_i}{dt} & = \\sum_{ij} -\\lambda_{ij} I_i S_j  \\\\\n",
    "\\frac{dI_i}{dt} & = \\sum_{ij} \\lambda_{ij} S_j I_i - \\sum_i (\\gamma_i I_i + \\mu_i I_i) \\\\\n",
    "\\frac{dR}{dt} & = \\sum_i \\gamma_i I_i \\\\\n",
    "\\frac{dD}{dt} & = \\sum_i \\mu_i I_i\n",
    "\\end{align}"
   ]
  },
  {
   "cell_type": "markdown",
   "metadata": {
    "slideshow": {
     "slide_type": "fragment"
    }
   },
   "source": [
    "and the boundary condition would become\n",
    "\\begin{equation}\n",
    "\\sum_i \\left(S_i + I_i \\right) + R + D = 1\n",
    "\\end{equation}"
   ]
  },
  {
   "cell_type": "markdown",
   "metadata": {
    "slideshow": {
     "slide_type": "subslide"
    }
   },
   "source": [
    "We have a lot of extra coefficients here. Still aiming for the simplest way to represent this additional complication, we ideally only want one extra parameter to quantify the extent to which we successfuly manage to isolate (and hence hopefully protect) the vulnerable."
   ]
  },
  {
   "cell_type": "markdown",
   "metadata": {
    "slideshow": {
     "slide_type": "fragment"
    }
   },
   "source": [
    "We going to create a separation parameter $\\alpha$, which must correspond to the same model as before when $\\alpha=0$, and total separation when $\\alpha=1$. We'll relate it to our original daily contact rate $\\lambda_0$ via"
   ]
  },
  {
   "cell_type": "markdown",
   "metadata": {
    "slideshow": {
     "slide_type": "fragment"
    }
   },
   "source": [
    "\\begin{align}\n",
    "\\lambda_{NV-NV} & = \\lambda_{V-V} = \\lambda_0 \\\\\n",
    "\\lambda_{NV-V} & = \\lambda_{V-NV} = (1-\\alpha) \\lambda_0\n",
    "\\end{align}\n",
    "\n",
    "This basically assumes that we have two populations, which each have the same internal transmission rate as before, but have a reduced transmission rate between populations."
   ]
  },
  {
   "cell_type": "markdown",
   "metadata": {
    "slideshow": {
     "slide_type": "skip"
    }
   },
   "source": [
    "(Eagle-eyed readers will notice this change has altered the determinant of the tranmission matrix $\\text{det}(\\lambda_{ij})$, which means the total averaged rate of transmission in the whole population is now a function of $\\alpha$. That means our decoupling method isn't pure, it has a side-effect of reducing overall transmission. I'm going to ignore that, because correcting for it would mean artificially increasing the transmission within each separate population when $\\alpha$ is increased, which seems sillier.)"
   ]
  },
  {
   "cell_type": "code",
   "execution_count": 21,
   "metadata": {
    "slideshow": {
     "slide_type": "subslide"
    }
   },
   "outputs": [],
   "source": [
    "def SIRDV_eqns(t, y, lamb_0, gamma, mu_V, mu_NV, alpha):\n",
    "    S_V, S_NV, I_V, I_NV, R, D = y\n",
    "    \n",
    "    def dSVdt(S_V, I_V, I_NV, lamb_VV, lamb_NVV):\n",
    "        return -(lamb_VV * I_V + lamb_NVV * I_NV) * S_V\n",
    "\n",
    "    def dSNVdt(S_NV, I_V, I_NV, lamb_NVNV, lamb_VNV):\n",
    "        return -(lamb_NVNV * I_NV + lamb_VNV * I_V) * S_NV\n",
    "\n",
    "    def dIVdt(S_V, I_V, I_NV, lamb_VV, lamb_NVV, gamma, mu_V):\n",
    "        return (lamb_VV * I_V + lamb_NVV * I_NV) * S_V - gamma*I_V - mu_V*I_V\n",
    "\n",
    "    def dINVdt(S_NV, I_V, I_NV, lamb_NVNV, lamb_VNV, gamma, mu_NV):\n",
    "        return (lamb_VNV * I_V + lamb_NVNV * I_NV) * S_NV - gamma*I_NV - mu_NV*I_NV\n",
    "\n",
    "    def dRdt(I_V, I_NV, gamma):\n",
    "        return gamma*(I_V + I_NV)\n",
    "\n",
    "    def dDdt(I_V, I_NV, mu_V, mu_NV):\n",
    "        return mu_V*I_V + mu_NV*I_NV\n",
    "\n",
    "    lamb_VV = lamb_0\n",
    "    lamb_NVNV = lamb_0\n",
    "    lamb_VNV = lamb_0 * (1 - alpha)\n",
    "    lamb_NVV = lamb_0 * (1 - alpha)\n",
    "    \n",
    "    return [dSVdt(S_V, I_V, I_NV, lamb_VV, lamb_NVV),\n",
    "            dSNVdt(S_NV, I_V, I_NV, lamb_NVNV, lamb_VNV),\n",
    "            dIVdt(S_V, I_V, I_NV, lamb_VV, lamb_NVV, gamma, mu_V), \n",
    "            dINVdt(S_NV, I_V, I_NV, lamb_NVNV, lamb_VNV, gamma, mu_NV), \n",
    "            dRdt(I_V, I_NV, gamma),\n",
    "            dDdt(I_V, I_NV, mu_V, mu_NV)]"
   ]
  },
  {
   "cell_type": "markdown",
   "metadata": {
    "slideshow": {
     "slide_type": "subslide"
    }
   },
   "source": [
    "We will roughly define the \"vulnerable\" population to be those aged $>70$, which for demographics similar to the UK means the vulnerable fraction $f_V=0.12$ (as [11.7% of the UK is aged over 70](https://www.ethnicity-facts-figures.service.gov.uk/uk-population-by-ethnicity/demographics/age-groups/latest))."
   ]
  },
  {
   "cell_type": "markdown",
   "metadata": {
    "slideshow": {
     "slide_type": "fragment"
    }
   },
   "source": [
    "The chance of an infected individual dying from the disease is $L_i = \\mu_i / \\gamma_i$, where $i$ could be for $V$ or $NV$.\n",
    "For simplicity's sake we're going to assume that the rate of recovery is the same for both populations (so $\\gamma_V = \\gamma_{NV} = \\gamma_0$). However we will assume that the lethality ratio is very different: $L_{V} = 0.07$ while $L_{NV} = 0.002$. These numbers are roughly chosen from table 1 of the [Imperial College Report](https://www.imperial.ac.uk/media/imperial-college/medicine/sph/ide/gida-fellowships/Imperial-College-COVID19-NPI-modelling-16-03-2020.pdf?fbclid=IwAR1j0zcv_htn0A6OHNGhDkV5Facsz_jLVJxYtel7MEl1b7VvBsPgnkcXMAM), in such a way that the population-averaged mortality is still the same as in the previous model\n",
    "\n",
    "\\begin{equation}\n",
    "L_\\text{avg} = L_V f_V + (1 - f_V) L_{NV}\n",
    "\\end{equation}"
   ]
  },
  {
   "cell_type": "markdown",
   "metadata": {
    "slideshow": {
     "slide_type": "subslide"
    }
   },
   "source": [
    "To start our new model, we also need the initial conditions: we'll assume that the fraction of infected cases so far is divided in the same way as the overall population. "
   ]
  },
  {
   "cell_type": "code",
   "execution_count": 29,
   "metadata": {
    "slideshow": {
     "slide_type": "subslide"
    }
   },
   "outputs": [],
   "source": [
    "M_NV = 0.002  # Mortality ratio of the vulnerable population\n",
    "M_V = 0.07    # Mortality ratio of the non-vulnerable population\n",
    "\n",
    "f_V = 0.12    # Fraction of the population considered vulnerable\n",
    "\n",
    "alpha = 0.5   # Effectiveness of isolating the vulnerable population\n",
    "\n",
    "N = uk_initial_conditions['population']"
   ]
  },
  {
   "cell_type": "code",
   "execution_count": 30,
   "metadata": {
    "slideshow": {
     "slide_type": "skip"
    }
   },
   "outputs": [],
   "source": [
    "def setup_SIRDV(N, cases, recovered, deaths, f_V,\n",
    "                P, M_V, M_NV, R_0, alpha):\n",
    "\n",
    "    # Compute initial values\n",
    "    R0 = recovered/N\n",
    "    D0 = deaths/N\n",
    "    S0 = (N - cases)/N\n",
    "    I0 = 1 - S0 - R0 - D0\n",
    "    \n",
    "    S_V0 = S0 * f_V\n",
    "    S_NV0 = S0 * (1-f_V)\n",
    "    I_V0 = I0 * f_V\n",
    "    I_NV0 = I0 * (1-f_V)\n",
    "    \n",
    "    initial = [S_V0, S_NV0, I_V0, I_NV0, R0, D0]\n",
    "\n",
    "    # Compute coefficients\n",
    "    gamma = 1 / P\n",
    "    mu_V = gamma * M_V\n",
    "    mu_NV = gamma * M_NV\n",
    "    mu_avg = mu_V * f_V + mu_NV * (1-f_V) \n",
    "    lamb_0 = R_0 * (gamma + mu_avg)\n",
    "\n",
    "    return initial, lamb_0, gamma, mu_V, mu_NV"
   ]
  },
  {
   "cell_type": "code",
   "execution_count": 31,
   "metadata": {
    "slideshow": {
     "slide_type": "skip"
    }
   },
   "outputs": [],
   "source": [
    "def solve_SIRDV(eqns, N, cases, recovered, deaths,\n",
    "                P, M_V, M_NV, R_0, alpha, tf=300):\n",
    "    \n",
    "    initial, lamb_0, gamma, mu_V, mu_NV = setup_SIRDV(N, cases, recovered, deaths, f_V,\n",
    "                                                      P, M_V, M_NV, R_0, alpha)\n",
    "    \n",
    "    t_span = (0, tf)  # tf is number of days to run simulation for, defaulting to 300\n",
    "    \n",
    "    soln = solve_ivp(eqns, t_span, initial, args=(lamb_0, gamma, mu_V, mu_NV, alpha),\n",
    "                     t_eval=np.linspace(0, tf, tf*2))\n",
    "    return soln"
   ]
  },
  {
   "cell_type": "code",
   "execution_count": 32,
   "metadata": {
    "slideshow": {
     "slide_type": "skip"
    }
   },
   "outputs": [],
   "source": [
    "def plot_SIRDV_solution(soln, N):\n",
    "    \n",
    "    S_V, S_NV, I_V, I_NV, R, D = soln.y\n",
    "    t = soln.t\n",
    "\n",
    "    print(f\"For a population of {N} people, after {t[-1]:.0f} days there were:\")\n",
    "    print(f\"{D[-1]*100:.1f}% total deaths, or {D[-1]*N:.0f} people.\")\n",
    "    print(f\"{R[-1]*100:.1f}% total recovered, or {R[-1]*N:.0f} people.\")\n",
    "    print(f\"At the virus' maximum {(I_V + I_NV).max()*100:.1f}% people were simultaneously infected, or {(I_V + I_NV).max()*N:.0f} people.\")\n",
    "    print(f\"After {t[-1]:.0f} days the virus was present in less than {(I_V + I_NV)[-1]*N:.0f} individuals.\")\n",
    "    \n",
    "    fig, ax = plt.subplots()\n",
    "    ax.set_title(\"Covid-19 spread\")\n",
    "    ax.set_xlabel(\"Time [days]\")\n",
    "    ax.set_ylabel(\"Number\")\n",
    "    ax.plot(t, S_V*N, label=\"Susceptible and Vulnerable\", linewidth=2, color='blue')\n",
    "    ax.plot(t, S_NV*N, label=\"Susceptible and Non-Vulnerable\", linewidth=2, color='blue', linestyle='--')\n",
    "    ax.plot(t, I_V*N, label=\"Infected and Vulnerable\", linewidth=2, color='orange')\n",
    "    ax.plot(t, I_NV*N, label=\"Infected and Non-Vulnerable\", linewidth=2, color='orange', linestyle='--')\n",
    "    ax.plot(t, R*N, label=\"Recovered\", linewidth=2, color='green')\n",
    "    ax.plot(t, D*N, label=\"Deceased\", linewidth=2, color='black')\n",
    "    ax.legend()\n",
    "    \n",
    "    start_total_people = N*(S_V[0] + S_NV[0] + I_V[0] + I_NV[0] + R[0] + D[0])\n",
    "    end_total_people = N*(S_V[-1] + S_NV[-1] + I_V[-1] + I_NV[-1] + R[-1] + D[-1])  \n",
    "    \n",
    "    return ax"
   ]
  },
  {
   "cell_type": "code",
   "execution_count": 33,
   "metadata": {
    "slideshow": {
     "slide_type": "skip"
    }
   },
   "outputs": [],
   "source": [
    "def plot_virus_spread(N, initial_cases, initial_recovered, initial_deaths,\n",
    "                      P, M_V, M_NV, R_0, alpha):\n",
    "    \n",
    "    \n",
    "    soln = solve_SIRDV(SIRDV_eqns, N, initial_cases, initial_recovered, initial_deaths,\n",
    "                       P, M_V, M_NV, R_0, alpha)\n",
    "    ax = plot_SIRDV_solution(soln, N)\n",
    "    plt.show()"
   ]
  },
  {
   "cell_type": "code",
   "execution_count": 34,
   "metadata": {
    "slideshow": {
     "slide_type": "subslide"
    }
   },
   "outputs": [
    {
     "ename": "NameError",
     "evalue": "name 'cases' is not defined",
     "output_type": "error",
     "traceback": [
      "\u001b[0;31m---------------------------------------------------------------------------\u001b[0m",
      "\u001b[0;31mNameError\u001b[0m                                 Traceback (most recent call last)",
      "\u001b[0;32m<ipython-input-34-e9f4aa3f86b4>\u001b[0m in \u001b[0;36m<module>\u001b[0;34m\u001b[0m\n\u001b[0;32m----> 1\u001b[0;31m plot_virus_spread(N, cases, recovered, deaths,\n\u001b[0m\u001b[1;32m      2\u001b[0m                   P, M_V, M_NV, R_0, alpha=0.8)\n",
      "\u001b[0;31mNameError\u001b[0m: name 'cases' is not defined"
     ]
    }
   ],
   "source": [
    "plot_virus_spread(N, cases, recovered, deaths,\n",
    "                  P, M_V, M_NV, R_0, alpha=0.8)"
   ]
  },
  {
   "cell_type": "code",
   "execution_count": null,
   "metadata": {
    "slideshow": {
     "slide_type": "subslide"
    }
   },
   "outputs": [],
   "source": [
    "def plot_protecting_the_vulnerable(N, initial_cases, initial_recovered, initial_deaths, \n",
    "                                   P, M_V, M_NV, R_0, alpha_values):\n",
    "    \n",
    "    tf = 500  # plot over longer period of time\n",
    "    \n",
    "    fig, [ax1, ax2] = plt.subplots(1, 2, figsize=(15, 5))\n",
    "    ax1.set_title(\"Reducing transmission to the vulnerable\")\n",
    "    ax1.set_xlabel(\"Time [days]\")\n",
    "    ax1.set_ylabel(\"Number of vulnerable cases\")\n",
    "    \n",
    "    ax2.set_title(\"Effect of reducing transmission to the vulnerable on mortality rate\")\n",
    "    ax2.set_xlabel(\"Success of reducing transmission to the vulnerable [alpha]\")\n",
    "    ax2.set_ylabel(\"Overall mortality rate [deaths/cases]\")\n",
    "    \n",
    "    mortality = []\n",
    "    for alpha in alpha_values:\n",
    "        soln = solve_SIRDV(SIRDV_eqns, N, \n",
    "                           initial_cases, initial_recovered, initial_deaths,\n",
    "                           P, M_V, M_NV, R_0, alpha, tf=300)\n",
    "        S_V, S_NV, I_V, I_NV, R, D = soln.y\n",
    "        t = soln.t\n",
    "    \n",
    "        # Flattened curves\n",
    "        ax1.plot(t, I_V*N, linewidth=2)\n",
    "        ax1.text(x=t[np.argmax(I_V)]+7, y=N*I_V.max(), s=f'alpha={alpha}')\n",
    "        \n",
    "        mortality.append(D[-1]/R[-1])\n",
    "    \n",
    "    # Mortality rates\n",
    "    ax2.plot(alpha_values, mortality, linewidth=2, color='black')\n",
    "    \n",
    "    plt.show()"
   ]
  },
  {
   "cell_type": "code",
   "execution_count": null,
   "metadata": {
    "slideshow": {
     "slide_type": "subslide"
    }
   },
   "outputs": [],
   "source": [
    "plot_protecting_the_vulnerable(N, cases, recovered, deaths, P=14, M_V=0.07, M_NV=0.002, R_0=2.4,\n",
    "                               alpha_values=[0.0, 0.2, 0.4, 0.6, 0.8, 0.9, 1.0])"
   ]
  },
  {
   "cell_type": "markdown",
   "metadata": {
    "slideshow": {
     "slide_type": "slide"
    }
   },
   "source": [
    "## Immediate suppression\n",
    "\n",
    "Even with these mitigation policies, the results are horrifying. What's the best-case outcome?\n",
    "\n",
    "We could instead go all-out to try and [stop the virus](https://medium.com/@tomaspueyo/coronavirus-the-hammer-and-the-dance-be9337092b56) in its tracks immediately."
   ]
  },
  {
   "cell_type": "markdown",
   "metadata": {
    "slideshow": {
     "slide_type": "subslide"
    }
   },
   "source": [
    "If we could get the reproductive rate of the virus $r$<0, the infection would exponentially decay instead of growing.\n",
    "\n",
    "Therefore we need\n",
    "\\begin{equation}\n",
    "( S - \\frac{1}{R_0(1-Q)})  < 0\n",
    "\\end{equation}\n",
    "\n",
    "or \n",
    "\\begin{equation}\n",
    "R_0 (1-Q) < 1\n",
    "\\end{equation}"
   ]
  },
  {
   "cell_type": "markdown",
   "metadata": {
    "slideshow": {
     "slide_type": "subslide"
    }
   },
   "source": [
    "For our typical coronavirus parameters, $S\\sim 1$, and $R_0 \\approx 2.4$, this implies we need $Q>0.59$."
   ]
  },
  {
   "cell_type": "markdown",
   "metadata": {
    "slideshow": {
     "slide_type": "subslide"
    }
   },
   "source": [
    "[This work](https://045.medsci.ox.ac.uk/) suggests that with efficient contact tracing and isolation, we could get $r$ down to $\\approx$ $0.1$.\n",
    "As\n",
    "\n",
    "\\begin{equation}\n",
    "r = S - \\frac{1}{R_0(1-Q)},\n",
    "\\end{equation}\n",
    "\n",
    "then this can be represented in our model as\n",
    "\n",
    "\\begin{equation}\n",
    "Q = 1 - \\frac{1}{(S + r)R_0} = 0.62\n",
    "\\end{equation}"
   ]
  },
  {
   "cell_type": "code",
   "execution_count": 28,
   "metadata": {
    "slideshow": {
     "slide_type": "subslide"
    }
   },
   "outputs": [
    {
     "name": "stdout",
     "output_type": "stream",
     "text": [
      "For a population of 66440000 people, after 100 days there were:\n",
      "0.0% total deaths, or 333 people.\n",
      "0.0% total recovered, or 22954 people.\n",
      "At the virus' maximum 0.0% people were simultaneously infected, or 4353 people.\n",
      "After 100 days the virus was present in less than 2328 individuals.\n",
      "Begin social distancing of effectiveness 0.62 on day 7.\n"
     ]
    },
    {
     "data": {
      "text/plain": [
       "<matplotlib.axes._subplots.AxesSubplot at 0x7f6a7bacac10>"
      ]
     },
     "execution_count": 28,
     "metadata": {},
     "output_type": "execute_result"
    },
    {
     "data": {
      "image/png": "[encoded data removed]",
      "text/plain": [
       "<Figure size 432x288 with 1 Axes>"
      ]
     },
     "metadata": {
      "needs_background": "light"
     },
     "output_type": "display_data"
    }
   ],
   "source": [
    "SIRDQ(R0=2.4, M=0.01, P=14, Q0=0.62, tQ=7).solve(uk_initial_conditions, tf=100).plot(susceptible=False)"
   ]
  },
  {
   "cell_type": "markdown",
   "metadata": {
    "slideshow": {
     "slide_type": "subslide"
    }
   },
   "source": [
    "This suggests that with advanced methods for contact tracing and isolation, it is possible to prevent the epidemic growing further, which would save thousands of lives.\n",
    "\n",
    "However, the measures would likely still have to be in place for several months in order to reduce the number of cases.\n",
    "\n",
    "At this point, more advanced models of virus propagation are really required."
   ]
  },
  {
   "cell_type": "markdown",
   "metadata": {
    "slideshow": {
     "slide_type": "slide"
    }
   },
   "source": [
    "## Summary\n",
    "\n",
    "We have seen that:\n",
    "\n",
    "- Very simple and intuitive mathematical models can reproduce the same overall trends as more complex epidemiological models.\n",
    "- If unchecked, the virus will spread exponentially through a large fraction of the population.\n",
    "- In the worst-case scenario, the total death toll in the UK alone could be in the hundreds of thousands.\n",
    "- The peak load on the healthcare system might not be reached for 2-3 months.\n",
    "- Widespread social distancing can help reduce the number of cases, and limit the burden on the healthcare system.\n",
    "- The earlier social distancing begins the lower the number of cases will be.\n",
    "- However, slacking off on the social distancing could lead to a re-emergence of the virus.\n",
    "- Specifically isolating the most vulnerable segments of the population can significantly reduce the overall mortality rate.\n",
    "\n",
    "All of these conclusions agree with detailed [published studies](https://www.imperial.ac.uk/media/imperial-college/medicine/sph/ide/gida-fellowships/Imperial-College-COVID19-NPI-modelling-16-03-2020.pdf?fbclid=IwAR1j0zcv_htn0A6OHNGhDkV5Facsz_jLVJxYtel7MEl1b7VvBsPgnkcXMAM)."
   ]
  }
 ],
 "metadata": {
  "celltoolbar": "Slideshow",
  "kernelspec": {
   "display_name": "Python (py37)",
   "language": "python",
   "name": "py37"
  },
  "language_info": {
   "codemirror_mode": {
    "name": "ipython",
    "version": 3
   },
   "file_extension": ".py",
   "mimetype": "text/x-python",
   "name": "python",
   "nbconvert_exporter": "python",
   "pygments_lexer": "ipython3",
   "version": "3.7.4"
  }
 },
 "nbformat": 4,
 "nbformat_minor": 4
}
