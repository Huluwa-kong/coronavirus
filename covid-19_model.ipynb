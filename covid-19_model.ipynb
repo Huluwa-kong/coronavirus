{
 "cells": [
  {
   "cell_type": "markdown",
   "metadata": {},
   "source": [
    "## Susceptible-Infected-Recovered-Deceased model"
   ]
  },
  {
   "cell_type": "markdown",
   "metadata": {},
   "source": [
    "The susceptible population $NS(t)$ decreases through contact with infected, at a rate given by $\\lambda$:\n",
    "\n",
    "\\begin{equation}\n",
    "\\frac{d(NS)}{dt} = -\\lambda S N I\n",
    "\\end{equation}"
   ]
  },
  {
   "cell_type": "markdown",
   "metadata": {},
   "source": [
    "$\\lambda$ is the \"daily contact rate\", which means that if everyone were suceptible and uninfected, one infected person would infect $\\lambda$ people per day. So the average number of susceptibles infected by an infectious person per day is $\\lambda S$."
   ]
  },
  {
   "cell_type": "markdown",
   "metadata": {},
   "source": [
    "The infected population $NI(t)$ increases through contact with infected (at a rate set by $\\lambda$), decreases through recovery, at a rate $\\gamma$, and also decreases through death, at a rate $\\mu$.\n",
    "\n",
    "\\begin{equation}\n",
    "\\frac{d(NI)}{dt} = \\lambda S N I - \\gamma N I - \\mu N I\n",
    "\\end{equation}"
   ]
  },
  {
   "cell_type": "markdown",
   "metadata": {},
   "source": [
    "What does $\\gamma$ mean? Individuals recover and are removed from the infective class at a rate proportional to the number of infectives with proportionality constant $\\gamma$, called the daily recovery removal rate.\n",
    "\n",
    "The latent period is zero (it is defined as the period between the time of exposure and the time when infectiousness begins).\n",
    "Thus the proportion of individuals exposed (and immediately infective) at time $t_0$ who are still infective at time $t_0 + t$ is $\\exp(-\\gamma t)$, and the average period of infectivity is $P=1/\\gamma$."
   ]
  },
  {
   "cell_type": "markdown",
   "metadata": {},
   "source": [
    "The recovered population $NR(t)$ increases when members of the infected population recover. We assume (for now) that all recovered people are henceforth immune to being infected a second time.\n",
    "\n",
    "\\begin{equation}\n",
    "\\frac{d(NR)}{dt} = \\gamma I N\n",
    "\\end{equation}"
   ]
  },
  {
   "cell_type": "markdown",
   "metadata": {},
   "source": [
    "The deceased population $ND(t)$ increases through death at a rate $\\mu$\n",
    "\\begin{equation}\n",
    "\\frac{d(ND)}{dt} = \\mu I N\n",
    "\\end{equation}"
   ]
  },
  {
   "cell_type": "markdown",
   "metadata": {},
   "source": [
    "Members of the infected population leave $I(t)$ either by recovering (at a rate $\\gamma$), or dying (at a rate $\\mu$).\n",
    "Therefore the chance of an infected individual dying (the average lethality) is $L=\\mu/\\gamma$."
   ]
  },
  {
   "cell_type": "markdown",
   "metadata": {},
   "source": [
    "The \"basic reproductive number\" (also known as \"contact number\") $R_0$ is defined as $R_0=\\lambda / (\\gamma + \\mu)$. This comes from the fact that accounting for the deaths of infected gives a death-adjusted average period of infectivity of $1/(\\gamma + \\mu)$, and multiplying that time period by the daily contact rate $\\gamma$."
   ]
  },
  {
   "cell_type": "markdown",
   "metadata": {},
   "source": [
    "The fact that the membership of all groups together must add up to the total population is expressed as\n",
    "\\begin{equation}\n",
    "NS + NI + NR + ND = N\n",
    "\\end{equation}\n",
    "We've also assumed that the total population is constant (including deceased), and that the epidemic occurs in a timeframe much shorter than that over which natural births and deaths significantly affect any of the populations."
   ]
  },
  {
   "cell_type": "markdown",
   "metadata": {},
   "source": [
    "Now we can simplify our equations by dividing through by $N$\n",
    "\n",
    "\\begin{align}\n",
    "\\frac{dS}{dt} & = -\\lambda S I \\\\\n",
    "\\frac{dI}{dt} & = \\lambda S I - \\gamma I - \\mu I \\\\\n",
    "\\frac{dR}{dt} & = \\gamma I \\\\\n",
    "\\frac{dD}{dt} & = \\mu I \n",
    "\\end{align}\n",
    "\n",
    "and we also have the boundary condition\n",
    "\\begin{equation}\n",
    "S + I + R + D = 1\n",
    "\\end{equation}"
   ]
  },
  {
   "cell_type": "markdown",
   "metadata": {},
   "source": [
    "## Modelling the coronavirus\n",
    "\n",
    "Okay let's try and model the coronavirus by solving these equations.\n",
    "\n",
    "Our equations are a system of linear ordinary differential equations, and we will start from a set of known initial values, so we're going to need `scipy`'s [`integrate.solve_ivp`](https://docs.scipy.org/doc/scipy/reference/generated/scipy.integrate.solve_ivp.html) function. \n",
    "\n",
    "(In fact, scipy has an example we can follow that is extremely similar, [\"Modelling a zombie apocalypse\"](https://scipy-cookbook.readthedocs.io/items/Zombie_Apocalypse_ODEINT.html).)"
   ]
  },
  {
   "cell_type": "markdown",
   "metadata": {},
   "source": [
    "### Population parameters"
   ]
  },
  {
   "cell_type": "code",
   "execution_count": 1,
   "metadata": {},
   "outputs": [],
   "source": [
    "# Reported UK coronavirus numbers on 15th March 2020\n",
    "N = 66440000    # population\n",
    "cases = 1391    # total reported cases including resolved\n",
    "deaths = 35\n",
    "recovered = 20\n",
    "\n",
    "tf = 300        # number of days to run simulation for"
   ]
  },
  {
   "cell_type": "markdown",
   "metadata": {},
   "source": [
    "### Virus parameters"
   ]
  },
  {
   "cell_type": "code",
   "execution_count": 2,
   "metadata": {},
   "outputs": [],
   "source": [
    "R_0 = 2.6  # Basic Reproductive Rate [people]\n",
    "L = 0.035  # Case Fatality Rate [fraction]\n",
    "P = 14     # Average infectious period [days] (should really be split up by case severity)"
   ]
  },
  {
   "cell_type": "code",
   "execution_count": 3,
   "metadata": {},
   "outputs": [],
   "source": [
    "from scipy.integrate import solve_ivp\n",
    "import seaborn as sns; sns.set()\n",
    "import matplotlib.pyplot as plt\n",
    "import numpy as np"
   ]
  },
  {
   "cell_type": "markdown",
   "metadata": {},
   "source": [
    "Let's write out the equations for the derivatives we need to calculate."
   ]
  },
  {
   "cell_type": "code",
   "execution_count": 4,
   "metadata": {},
   "outputs": [],
   "source": [
    "def dSdt(S, I, lamb):\n",
    "    return -lamb*S*I\n",
    "\n",
    "def dIdt(S, I, lamb, gamma, mu):\n",
    "    return lamb*S*I - gamma*I - mu*I\n",
    "\n",
    "def dRdt(I, gamma):\n",
    "    return gamma*I\n",
    "\n",
    "def dDdt(I, mu):\n",
    "    return mu*I\n",
    "\n",
    "def SIRD_eqns(t, y, lamb, gamma, mu):\n",
    "    S, I, R, D = y\n",
    "    return [dSdt(S, I, lamb),\n",
    "            dIdt(S, I, lamb, gamma, mu), \n",
    "            dRdt(I, gamma),\n",
    "            dDdt(I, mu)]"
   ]
  },
  {
   "cell_type": "markdown",
   "metadata": {},
   "source": [
    "set up the initial conditions and coefficients"
   ]
  },
  {
   "cell_type": "code",
   "execution_count": 5,
   "metadata": {},
   "outputs": [],
   "source": [
    "def setup(N, cases, recovered, deaths,\n",
    "          P, L, R_0):\n",
    "\n",
    "    # Compute initial values\n",
    "    R0 = recovered/N\n",
    "    D0 = deaths/N\n",
    "    S0 = (N - cases)/N\n",
    "    I0 = 1 - S0 - R0 - D0\n",
    "    initial = [S0, I0, R0, D0]\n",
    "\n",
    "    # Compute coefficients\n",
    "    gamma = 1 / P\n",
    "    mu = gamma * L\n",
    "    lamb = R_0 * (gamma + mu)\n",
    "\n",
    "    return initial, lamb, gamma, mu"
   ]
  },
  {
   "cell_type": "markdown",
   "metadata": {},
   "source": [
    "and now solve them"
   ]
  },
  {
   "cell_type": "code",
   "execution_count": 6,
   "metadata": {},
   "outputs": [],
   "source": [
    "def solve(eqns, N, cases, recovered, deaths,\n",
    "          P, L, R_0, *extra_args):\n",
    "    \n",
    "    initial, lamb, gamma, mu = setup(N, cases, recovered, deaths,\n",
    "                                     P, L, R_0)\n",
    "    \n",
    "    # Solve\n",
    "    t_span = (0, tf)\n",
    "    soln = solve_ivp(eqns, t_span, initial, args=(lamb, gamma, mu, *extra_args),\n",
    "                     t_eval=np.linspace(0, tf, tf*2))\n",
    "    return soln"
   ]
  },
  {
   "cell_type": "code",
   "execution_count": 7,
   "metadata": {},
   "outputs": [],
   "source": [
    "def plot_SIRD_solution(soln, N):\n",
    "    \n",
    "    S, I, R, D = soln.y\n",
    "    t = soln.t\n",
    "\n",
    "    print(f\"For a population of {N} people, after {t[-1]:.0f} days there were:\")\n",
    "    print(f\"{D[-1]*100:.1f}% total deaths, or {D[-1]*N:.0f} people.\")\n",
    "    print(f\"{R[-1]*100:.1f}% total recovered, or {R[-1]*N:.0f} people.\")\n",
    "    print(f\"At the virus' maximum {I.max()*100:.1f}% people were simultaneously infected, or {R.max()*N:.0f} people.\")\n",
    "    print(f\"After {t[-1]:.0f} days the virus was present in less than {I[-1]*N:.0f} individuals.\")\n",
    "    \n",
    "    fig, ax = plt.subplots()\n",
    "    ax.set_title(\"Covid-19 spread\")\n",
    "    ax.set_xlabel(\"Time [days]\")\n",
    "    ax.set_ylabel(\"People\")\n",
    "    ax.plot(t, S*N, label=\"Susceptible\", linewidth=2, color='blue')\n",
    "    ax.plot(t, I*N, label=\"Infected\", linewidth=2, color='orange')\n",
    "    ax.plot(t, R*N, label=\"Recovered\", linewidth=2, color='green')\n",
    "    ax.plot(t, D*N, label=\"Deceased\", linewidth=2, color='red')\n",
    "    ax.legend()\n",
    "    \n",
    "    return ax"
   ]
  },
  {
   "cell_type": "code",
   "execution_count": 8,
   "metadata": {},
   "outputs": [],
   "source": [
    "def plot_virus_spread(N, initial_cases, initial_recovered, initial_deaths,\n",
    "                      P, L, R_0):\n",
    "    soln = solve(SIRD_eqns, N, initial_cases, initial_recovered, initial_deaths,\n",
    "                 P, L, R_0)\n",
    "    plot_SIRD_solution(soln, N)\n",
    "    plt.show()"
   ]
  },
  {
   "cell_type": "code",
   "execution_count": 9,
   "metadata": {},
   "outputs": [
    {
     "name": "stdout",
     "output_type": "stream",
     "text": [
      "For a population of 66440000 people, after 300 days there were:\n",
      "3.1% total deaths, or 2030916 people.\n",
      "87.3% total recovered, or 58025185 people.\n",
      "At the virus' maximum 24.8% people were simultaneously infected, or 58025185 people.\n",
      "After 300 days the virus was present in less than 475 individuals.\n"
     ]
    },
    {
     "data": {
      "image/png": "[encoded data removed]",
      "text/plain": [
       "<Figure size 432x288 with 1 Axes>"
      ]
     },
     "metadata": {
      "needs_background": "light"
     },
     "output_type": "display_data"
    }
   ],
   "source": [
    "plot_virus_spread(N, cases, recovered, deaths, P, L, R_0)"
   ]
  },
  {
   "cell_type": "code",
   "execution_count": 10,
   "metadata": {},
   "outputs": [],
   "source": [
    "from ipywidgets import interact, fixed\n",
    "from ipywidgets import IntSlider, IntRangeSlider, FloatSlider, Dropdown"
   ]
  },
  {
   "cell_type": "code",
   "execution_count": 11,
   "metadata": {},
   "outputs": [],
   "source": [
    "P_slider = IntSlider(min=1, max=30, step=1, value=14)\n",
    "R_0_slider = FloatSlider(min=0.1, max=15, step=0.1, value=2.6)\n",
    "L_slider = FloatSlider(min=0.001, max=0.05, step=0.001, value=0.035)"
   ]
  },
  {
   "cell_type": "code",
   "execution_count": 12,
   "metadata": {},
   "outputs": [
    {
     "data": {
      "application/vnd.jupyter.widget-view+json": {
       "model_id": "30506d299d084f95950b64806c047fc5",
       "version_major": 2,
       "version_minor": 0
      },
      "text/plain": [
       "interactive(children=(IntSlider(value=14, description='P', max=30, min=1), FloatSlider(value=0.035, descriptio…"
      ]
     },
     "metadata": {},
     "output_type": "display_data"
    },
    {
     "data": {
      "text/plain": [
       "<function __main__.plot_virus_spread(N, initial_cases, initial_recovered, initial_deaths, P, L, R_0)>"
      ]
     },
     "execution_count": 12,
     "metadata": {},
     "output_type": "execute_result"
    }
   ],
   "source": [
    "interact(plot_virus_spread, \n",
    "         N=fixed(N), initial_cases=fixed(cases), \n",
    "         initial_recovered=fixed(recovered), initial_deaths=fixed(deaths), \n",
    "         P=P_slider, L=L_slider, R_0=R_0_slider,\n",
    "         continuous_update=False)"
   ]
  },
  {
   "cell_type": "markdown",
   "metadata": {},
   "source": [
    "## Social distancing\n",
    "\n",
    "How can social distancing help? \n",
    "\n",
    "Social distancing effectively reduces $R_0$. If $R_0=0$ (everyone lives alone in a box) then there would be no new infections, and the disease would die out once all the infected had either recovered or died."
   ]
  },
  {
   "cell_type": "markdown",
   "metadata": {},
   "source": [
    "If $R_0 < 1$ then new people will still be infected, but not fast enough to sustain the virus, and the contagion will decay away."
   ]
  },
  {
   "cell_type": "markdown",
   "metadata": {},
   "source": [
    "But if $R_0>1$, even if only a bit greater, than the virus will still grow exponentially.\n",
    "It will grow more slowly, but will still pick up pace, becoming faster and faster."
   ]
  },
  {
   "cell_type": "markdown",
   "metadata": {},
   "source": [
    "So why do social distancing? If we can decrease $R_0$, in other words we can `#flattenthecurve`."
   ]
  },
  {
   "cell_type": "markdown",
   "metadata": {},
   "source": [
    "## Lockdown policies\n",
    "\n",
    "But just changing $R_0$ overall isn't realistic, it assumes that as soon as the virus was discovered, everyone who is near it practices social distancing immediately and indefinitely.\n",
    "What is more realistic is that once it's realised that the disease could cause an epidemic, governments encourage (or enforce) varying degrees of social distancing through policies like quarantining, lockdowns, banning large events, and working from home."
   ]
  },
  {
   "cell_type": "markdown",
   "metadata": {},
   "source": [
    "How can we parameterise a change in the effectiveness of social distancing through policies like these?\n",
    "Let's try adjusting $R_0$ using a \"quarantine parameter\" $Q$.\n",
    "When $Q=0$ then the disease spreads freely, but when $Q=1$ we are on total lockdown and the disease can't spread at all."
   ]
  },
  {
   "cell_type": "markdown",
   "metadata": {},
   "source": [
    "We can represent this by changing our equations for the fraction of susceptible and infected people to\n",
    "\n",
    "\\begin{align}\n",
    "\\frac{dS}{dt} & = -\\lambda(1 - Q) S I \\\\\n",
    "\\frac{dI}{dt} & = \\lambda(1 - Q) S I - \\gamma I - \\mu I\n",
    "\\end{align}"
   ]
  },
  {
   "cell_type": "markdown",
   "metadata": {},
   "source": [
    "If we make $Q$ a function of time $Q=Q(t)$, then we can simulate the effect of varying the level of social distancing in response to the virus.\n",
    "\n",
    "We can model a sudden permanent lockdown by setting $Q=Q_0H(t-t_Q)$, where $H$ is the heaviside step function\n",
    "\\begin{equation} \n",
    "H(t) = \n",
    "  \\begin{cases} \n",
    "    0 & t\\lt t_Q \\\\\n",
    "    1 & t\\geq t_Q \n",
    "  \\end{cases}\n",
    "\\end{equation}\n",
    "This just means there are zero social distancing measures in place before day $t_Q$, and then immediate distancing measures of effectiveness $Q$ are enforced permanently from day $t_Q$."
   ]
  },
  {
   "cell_type": "markdown",
   "metadata": {},
   "source": [
    "To model this, we need $\\frac{dS}{dt} = \\frac{dS}{dt}(Q(t-t_Q))$"
   ]
  },
  {
   "cell_type": "code",
   "execution_count": 13,
   "metadata": {},
   "outputs": [],
   "source": [
    "def dSdt(S, I, lamb, Q):\n",
    "    return -lamb*(1-Q)*S*I\n",
    "                 \n",
    "def dIdt(S, I, lamb, gamma, mu, Q):\n",
    "    return lamb*(1-Q)*S*I - gamma*I - mu*I\n",
    "\n",
    "def Q(t, Q0, t_Q):\n",
    "    if t > t_Q:\n",
    "        return Q0\n",
    "    else:\n",
    "        return 0\n",
    "\n",
    "def SIRDQ_eqns(t, y, lamb, gamma, mu, Q0, t_Q):\n",
    "    S, I, R, D = y\n",
    "    \n",
    "    q = Q(t, Q0, t_Q)\n",
    "    \n",
    "    return [dSdt(S, I, lamb, q),\n",
    "            dIdt(S, I, lamb, gamma, mu, q), \n",
    "            dRdt(I, gamma),\n",
    "            dDdt(I, mu)]"
   ]
  },
  {
   "cell_type": "code",
   "execution_count": 14,
   "metadata": {},
   "outputs": [],
   "source": [
    "def plot_social_distancing_event(ax, Q0, t_Q, N, limit):\n",
    "    print(f\"{limit} social distancing of effectiveness {Q0} on day {t_Q}.\")\n",
    "    \n",
    "    # Mark intervention point\n",
    "    ax.axvline(x=t_Q, linewidth=2, color='black')\n",
    "    ax.text(x=t_Q+5, y=N*0.85, s=f\"{limit} \\nSocial \\nDistancing \\n\")\n",
    "    return ax"
   ]
  },
  {
   "cell_type": "code",
   "execution_count": 15,
   "metadata": {},
   "outputs": [],
   "source": [
    "def plot_SIRDQ(N, initial_cases, initial_recovered, initial_deaths,\n",
    "                                      P, L, R_0, Q0, t_Q):\n",
    "\n",
    "    soln = solve(SIRDQ_eqns, N, \n",
    "                 initial_cases, initial_recovered, initial_deaths,\n",
    "                 P, L, R_0, Q0, t_Q)\n",
    "\n",
    "    ax = plot_SIRD_solution(soln, N)\n",
    "    \n",
    "    ax = plot_social_distancing_event(ax, Q0, t_Q, N, 'Begin')\n",
    "    \n",
    "    plt.show()"
   ]
  },
  {
   "cell_type": "code",
   "execution_count": 16,
   "metadata": {},
   "outputs": [
    {
     "name": "stdout",
     "output_type": "stream",
     "text": [
      "For a population of 66440000 people, after 300 days there were:\n",
      "1.9% total deaths, or 1251313 people.\n",
      "53.8% total recovered, or 35750811 people.\n",
      "At the virus' maximum 9.9% people were simultaneously infected, or 35750811 people.\n",
      "After 300 days the virus was present in less than 22521 individuals.\n",
      "Begin social distancing of effectiveness 0.5 on day 75.\n"
     ]
    },
    {
     "data": {
      "image/png": "[encoded data removed]",
      "text/plain": [
       "<Figure size 432x288 with 1 Axes>"
      ]
     },
     "metadata": {
      "needs_background": "light"
     },
     "output_type": "display_data"
    }
   ],
   "source": [
    "plot_SIRDQ(N, cases, recovered, deaths, P, L, R_0, Q0=0.5, t_Q=75)"
   ]
  },
  {
   "cell_type": "markdown",
   "metadata": {},
   "source": [
    "These policies might be implemented only once the virus has been spreading for a while."
   ]
  },
  {
   "cell_type": "code",
   "execution_count": 17,
   "metadata": {},
   "outputs": [],
   "source": [
    "Q0_slider = FloatSlider(min=0.0, max=1.0, step=0.01, value=0.5)\n",
    "t_Q_slider = IntSlider(min=0, max=tf*0.5, value=75)"
   ]
  },
  {
   "cell_type": "code",
   "execution_count": 18,
   "metadata": {},
   "outputs": [
    {
     "data": {
      "application/vnd.jupyter.widget-view+json": {
       "model_id": "4b31d7aed85749c2a1866581c4abd542",
       "version_major": 2,
       "version_minor": 0
      },
      "text/plain": [
       "interactive(children=(IntSlider(value=14, description='P', max=30, min=1), FloatSlider(value=0.035, descriptio…"
      ]
     },
     "metadata": {},
     "output_type": "display_data"
    },
    {
     "data": {
      "text/plain": [
       "<function __main__.plot_SIRDQ(N, initial_cases, initial_recovered, initial_deaths, P, L, R_0, Q0, t_Q)>"
      ]
     },
     "execution_count": 18,
     "metadata": {},
     "output_type": "execute_result"
    }
   ],
   "source": [
    "interact(plot_SIRDQ, \n",
    "         N=fixed(N), initial_cases=fixed(cases), \n",
    "         initial_recovered=fixed(recovered), initial_deaths=fixed(deaths), \n",
    "         P=P_slider, L=L_slider, R_0=R_0_slider, Q0=Q0_slider, t_Q=t_Q_slider,\n",
    "         continuous_update=False)"
   ]
  },
  {
   "cell_type": "markdown",
   "metadata": {},
   "source": [
    "Or perhaps these policies will only be ramped up when there are lots of people infected. "
   ]
  },
  {
   "cell_type": "markdown",
   "metadata": {},
   "source": [
    "## Second wave?\n",
    "\n",
    "The deadliest part of the 1918 Spanish Flu epidemic was the second wave that remerged in the winter.\n",
    "\n",
    "Although it's yet not clear if Covid-19 is significantly affected by temperature, there are also fears that slacking off on isolation measures will trigger a second wave.\n",
    "\n",
    "Can we model this possibility?"
   ]
  },
  {
   "cell_type": "markdown",
   "metadata": {},
   "source": [
    "Let's alter our $Q(t)$ to also stop isolation measures at a certain point in time. Let's call this time $t_{UQ}$ (for \"Un-Quarantine\"). Then $Q$ becomes\n",
    "\n",
    "\\begin{equation} \n",
    "Q(t) = \n",
    "  \\begin{cases} \n",
    "    0 & t\\lt t_Q \\\\\n",
    "    Q_0 & t_Q \\leq t \\lt t_{UQ} \\\\\n",
    "    0 & t\\geq t_{UQ}\n",
    "  \\end{cases}\n",
    "\\end{equation}"
   ]
  },
  {
   "cell_type": "code",
   "execution_count": 19,
   "metadata": {},
   "outputs": [],
   "source": [
    "def Q(t, Q0, t_Q, t_UQ):\n",
    "    if t_Q < t <= t_UQ:\n",
    "        return Q0\n",
    "    else:\n",
    "        return 0\n",
    "\n",
    "def SIRDUQ_eqns(t, y, lamb, gamma, mu, Q0, t_Q, t_UQ):\n",
    "    S, I, R, D = y\n",
    "    \n",
    "    q = Q(t, Q0, t_Q, t_UQ)\n",
    "    \n",
    "    return [dSdt(S, I, lamb, q),\n",
    "            dIdt(S, I, lamb, gamma, mu, q), \n",
    "            dRdt(I, gamma),\n",
    "            dDdt(I, mu)]"
   ]
  },
  {
   "cell_type": "code",
   "execution_count": 22,
   "metadata": {},
   "outputs": [],
   "source": [
    "def plot_SIRDUQ(N, initial_cases, initial_recovered, initial_deaths,\n",
    "                                      P, L, R_0, Q0, t_Q, t_UQ):\n",
    "\n",
    "    soln = solve(SIRDUQ_eqns, N, \n",
    "                 initial_cases, initial_recovered, initial_deaths,\n",
    "                 P, L, R_0, Q0, t_Q, t_UQ)\n",
    "\n",
    "    ax = plot_SIRD_solution(soln, N)\n",
    "    \n",
    "    ax = plot_social_distancing_event(ax, Q0, t_Q, N, 'Begin')\n",
    "    ax = plot_social_distancing_event(ax, Q0, t_UQ, N, 'End')\n",
    "    \n",
    "    plt.show()"
   ]
  },
  {
   "cell_type": "code",
   "execution_count": 23,
   "metadata": {},
   "outputs": [
    {
     "name": "stdout",
     "output_type": "stream",
     "text": [
      "For a population of 66440000 people, after 300 days there were:\n",
      "2.8% total deaths, or 1849514 people.\n",
      "79.5% total recovered, or 52842284 people.\n",
      "At the virus' maximum 11.4% people were simultaneously infected, or 52842284 people.\n",
      "After 300 days the virus was present in less than 665851 individuals.\n",
      "Begin social distancing of effectiveness 0.8 on day 75.\n",
      "End social distancing of effectiveness 0.8 on day 150.\n"
     ]
    },
    {
     "data": {
      "image/png": "[encoded data removed]",
      "text/plain": [
       "<Figure size 432x288 with 1 Axes>"
      ]
     },
     "metadata": {
      "needs_background": "light"
     },
     "output_type": "display_data"
    }
   ],
   "source": [
    "plot_SIRDUQ(N, cases, recovered, deaths, P, L, R_0=2.6, Q0=0.8, t_Q=75, t_UQ=150)"
   ]
  },
  {
   "cell_type": "markdown",
   "metadata": {},
   "source": [
    "## Herd immunity"
   ]
  },
  {
   "cell_type": "code",
   "execution_count": null,
   "metadata": {},
   "outputs": [],
   "source": []
  }
 ],
 "metadata": {
  "kernelspec": {
   "display_name": "Python (py37)",
   "language": "python",
   "name": "py37"
  },
  "language_info": {
   "codemirror_mode": {
    "name": "ipython",
    "version": 3
   },
   "file_extension": ".py",
   "mimetype": "text/x-python",
   "name": "python",
   "nbconvert_exporter": "python",
   "pygments_lexer": "ipython3",
   "version": "3.7.4"
  }
 },
 "nbformat": 4,
 "nbformat_minor": 4
}
