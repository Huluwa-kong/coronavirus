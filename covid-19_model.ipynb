{
 "cells": [
  {
   "cell_type": "markdown",
   "metadata": {},
   "source": [
    "## Susceptible-Infected-Recovered-Deceased model"
   ]
  },
  {
   "cell_type": "markdown",
   "metadata": {},
   "source": [
    "The susceptible population $NS(t)$ decreases through contact with infected, at a rate given by $\\lambda$:\n",
    "\n",
    "\\begin{equation}\n",
    "\\frac{d(NS)}{dt} = -\\lambda S N I\n",
    "\\end{equation}"
   ]
  },
  {
   "cell_type": "markdown",
   "metadata": {},
   "source": [
    "$\\lambda$ is the \"daily contact rate\", which means that if everyone were suceptible and uninfected, one infected person would infect $\\lambda$ people per day. So the average number of susceptibles infected by an infectious person per day is $\\lambda S$."
   ]
  },
  {
   "cell_type": "markdown",
   "metadata": {},
   "source": [
    "The infected population $NI(t)$ increases through contact with infected (at a rate set by $\\lambda$), decreases through recovery, at a rate $\\gamma$, and also decreases through death, at a rate $\\mu$.\n",
    "\n",
    "\\begin{equation}\n",
    "\\frac{d(NI)}{dt} = \\lambda S N I - \\gamma N I - \\mu N I\n",
    "\\end{equation}"
   ]
  },
  {
   "cell_type": "markdown",
   "metadata": {},
   "source": [
    "What does $\\gamma$ mean? Individuals recover and are removed from the infective class at a rate proportional to the number of infectives with proportionality constant $\\gamma$, called the daily recovery removal rate.\n",
    "\n",
    "The latent period is zero (it is defined as the period between the time of exposure and the time when infectiousness begins).\n",
    "Thus the proportion of individuals exposed (and immediately infective) at time $t_0$ who are still infective at time $t_0 + t$ is $\\exp(-\\gamma t)$, and the average period of infectivity is $P=1/\\gamma$."
   ]
  },
  {
   "cell_type": "markdown",
   "metadata": {},
   "source": [
    "The recovered population $NR(t)$ increases when members of the infected population recover. We assume (for now) that all recovered people are henceforth immune to being infected a second time.\n",
    "\n",
    "\\begin{equation}\n",
    "\\frac{d(NR)}{dt} = \\gamma I N\n",
    "\\end{equation}"
   ]
  },
  {
   "cell_type": "markdown",
   "metadata": {},
   "source": [
    "The deceased population $ND(t)$ increases through death at a rate $\\mu$\n",
    "\\begin{equation}\n",
    "\\frac{d(ND)}{dt} = \\mu I N\n",
    "\\end{equation}"
   ]
  },
  {
   "cell_type": "markdown",
   "metadata": {},
   "source": [
    "Members of the infected population leave $I(t)$ either by recovering (at a rate $\\gamma$), or dying (at a rate $\\mu$).\n",
    "Therefore the chance of an infected individual dying (the average lethality) is $L=\\mu/\\gamma$."
   ]
  },
  {
   "cell_type": "markdown",
   "metadata": {},
   "source": [
    "The \"basic reproductive number\" (also known as \"contact number\") $R_0$ is defined as $R_0=\\lambda / (\\gamma + \\mu)$. This comes from the fact that accounting for the deaths of infected gives a death-adjusted average period of infectivity of $1/(\\gamma + \\mu)$, and multiplying that time period by the daily contact rate $\\gamma$."
   ]
  },
  {
   "cell_type": "markdown",
   "metadata": {},
   "source": [
    "The fact that the membership of all groups together must add up to the total population is expressed as\n",
    "\\begin{equation}\n",
    "NS + NI + NR + ND = N\n",
    "\\end{equation}\n",
    "We've also assumed that the total population is constant (including deceased), and that the epidemic occurs in a timeframe much shorter than that over which natural births and deaths significantly affect any of the populations."
   ]
  },
  {
   "cell_type": "markdown",
   "metadata": {},
   "source": [
    "Now we can simplify our equations by dividing through by $N$,(and writing the parameters in terms of the more intuitive basic reproduction rate $R_0$, average period of infectivity $P$, and average lethality $L$):\n",
    "\n",
    "\\begin{align}\n",
    "\\frac{dS}{dt} & = -\\lambda S I \\\\\n",
    "\\frac{dI}{dt} & = \\lambda S I - \\gamma I - \\mu I \\\\\n",
    "\\frac{dR}{dt} & = \\gamma I \\\\\n",
    "\\frac{dD}{dt} & = \\mu I \\\\\n",
    "1 & = S + I + R + D\n",
    "\\end{align}"
   ]
  },
  {
   "cell_type": "markdown",
   "metadata": {},
   "source": [
    "## Modelling the coronavirus\n",
    "\n",
    "Okay let's try and model the coronavirus by solving these equations.\n",
    "\n",
    "Our equations are a system of linear ordinary differential equations, and we will start from a set of known initial values, so we're going to need `scipy`'s [`integrate.solve_ivp`](https://docs.scipy.org/doc/scipy/reference/generated/scipy.integrate.solve_ivp.html) function. \n",
    "\n",
    "In fact, scipy has an example we can follow that is extremely similar, [\"Modelling a zombie apocalypse\"](https://scipy-cookbook.readthedocs.io/items/Zombie_Apocalypse_ODEINT.html)."
   ]
  },
  {
   "cell_type": "markdown",
   "metadata": {},
   "source": [
    "Let's write out the equations for the derivatives we need to calculate."
   ]
  },
  {
   "cell_type": "code",
   "execution_count": 12,
   "metadata": {},
   "outputs": [],
   "source": [
    "def dSdt(S, I):\n",
    "    return -lamb*S*I\n",
    "\n",
    "def dIdt(S, I):\n",
    "    return lamb*S*I - gamma*I - mu*I\n",
    "\n",
    "def dRdt(I):\n",
    "    return gamma*I\n",
    "\n",
    "def dDdt(I):\n",
    "    return mu*I"
   ]
  },
  {
   "cell_type": "markdown",
   "metadata": {},
   "source": [
    "### Population parameters"
   ]
  },
  {
   "cell_type": "code",
   "execution_count": 23,
   "metadata": {},
   "outputs": [],
   "source": [
    "# Reported UK coronavirus numbers on 15th March 2020\n",
    "N = 66440000    # population\n",
    "cases = 1391    # total reported cases including resolved\n",
    "deaths = 35\n",
    "recovered = 20\n",
    "\n",
    "t0 = 0\n",
    "tf = 200        # number of days to run simulation for\n",
    "t_span = (0, tf)\n",
    "\n",
    "R0 = 20/N\n",
    "D0 = 35/N\n",
    "S0 = (N - cases)/N\n",
    "I0 = 1 - S0 - R0 - D0\n",
    "y0 = [S0, I0, R0, D0]"
   ]
  },
  {
   "cell_type": "markdown",
   "metadata": {},
   "source": [
    "### Virus parameters"
   ]
  },
  {
   "cell_type": "code",
   "execution_count": 14,
   "metadata": {},
   "outputs": [],
   "source": [
    "R_0 = 2.6  # Basic Reproductive Rate [people]\n",
    "L = 0.035  # Case Fatality Rate [fraction]\n",
    "P = 14     # Average infectious period [days] (should really be split up by case severity)\n",
    "\n",
    "gamma = 1 / P\n",
    "mu = gamma * L\n",
    "lamb = R_0 * (gamma + mu)"
   ]
  },
  {
   "cell_type": "code",
   "execution_count": 21,
   "metadata": {},
   "outputs": [],
   "source": [
    "from scipy.integrate import solve_ivp\n",
    "import matplotlib.pyplot as plt\n",
    "import numpy as np"
   ]
  },
  {
   "cell_type": "code",
   "execution_count": 24,
   "metadata": {},
   "outputs": [],
   "source": [
    "def rhs(t, y):\n",
    "    S, I, R, D = y\n",
    "    return [dSdt(S, I),\n",
    "            dIdt(S, I), \n",
    "            dRdt(I),\n",
    "            dDdt(I)]\n",
    "\n",
    "soln = solve_ivp(rhs, t_span, y0, t_eval=np.linspace(t0, tf))"
   ]
  },
  {
   "cell_type": "code",
   "execution_count": 27,
   "metadata": {},
   "outputs": [
    {
     "data": {
      "text/plain": [
       "<matplotlib.legend.Legend at 0x7f6982f7d3d0>"
      ]
     },
     "execution_count": 27,
     "metadata": {},
     "output_type": "execute_result"
    },
    {
     "data": {
      "image/png": "[encoded data removed]",
      "text/plain": [
       "<Figure size 432x288 with 1 Axes>"
      ]
     },
     "metadata": {
      "needs_background": "light"
     },
     "output_type": "display_data"
    }
   ],
   "source": [
    "S, I, R, D = soln.y\n",
    "\n",
    "fig, ax = plt.subplots()\n",
    "ax.plot(S, label='Susceptible')\n",
    "ax.plot(I, label='Infected')\n",
    "ax.plot(R, label='Recovered')\n",
    "ax.plot(D, label='Deceased')\n",
    "plt.legend()"
   ]
  },
  {
   "cell_type": "markdown",
   "metadata": {},
   "source": [
    "## Social distancing\n",
    "\n",
    "How can social distancing help? \n",
    "\n",
    "First we need to include it in the model.\n",
    "Social distancing effectively reduces $R_0$. If $R_0=0$ (everyone lives alone in a box) then there would be no new infections, and the disease would die out once all the infected had either recovered or died."
   ]
  },
  {
   "cell_type": "markdown",
   "metadata": {},
   "source": [
    "If $R_0 < 1$ then new people will still be infected, but not fast enough to sustain the virus, and the contagion will decay away."
   ]
  },
  {
   "cell_type": "markdown",
   "metadata": {},
   "source": [
    "But if $R_0>1$, even if only a bit greater, than the virus will still grow exponentially.\n",
    "It will grow more slowly, but will still pick up pace, becoming faster and faster."
   ]
  },
  {
   "cell_type": "markdown",
   "metadata": {},
   "source": [
    "So why do social distancing? If we can decrease $R_0$, in other words we can `#flattenthecurve`."
   ]
  },
  {
   "cell_type": "markdown",
   "metadata": {},
   "source": [
    "## Lockdown policies\n",
    "\n",
    "But just changing $R_0$ overall isn't realistic, it assumes that as soon as the virus was discovered, everyone who is near it practices social distancing immediately and indefinitely.\n",
    "What is more realistic is that once it's realised that the disease could cause an epidemic, governments encourage (or enforce) varying degrees of social distancing through policies like quarantining, lockdowns, banning large events, and working from home."
   ]
  },
  {
   "cell_type": "markdown",
   "metadata": {},
   "source": [
    "How can we parameterise a change in the effectiveness of social distancing through policies like these?\n",
    "Let's try adjusting $R_0$ using a \"quarantine parameter\" $Q$.\n",
    "When $Q=0$ then the disease spreads freely, but when $Q=1$ we are on total lockdown and the disease can't spread at all."
   ]
  },
  {
   "cell_type": "markdown",
   "metadata": {},
   "source": [
    "We can represent this by changing our equations for the fraction of susceptible and infected people to\n",
    "\n",
    "\\begin{align}\n",
    "\\frac{dS}{dt} & = -(\\lambda - Q) S I \\\\\n",
    "\\frac{dI}{dt} & = (\\lambda - Q) S I - \\gamma I - \\mu I\n",
    "\\end{align}"
   ]
  },
  {
   "cell_type": "markdown",
   "metadata": {},
   "source": [
    "These policies might be implemented only once the virus has been spreading for a while."
   ]
  },
  {
   "cell_type": "markdown",
   "metadata": {},
   "source": [
    "Or perhaps these policies will only be ramped up when there are lots of people infected. "
   ]
  },
  {
   "cell_type": "markdown",
   "metadata": {},
   "source": [
    "## Herd immunity"
   ]
  }
 ],
 "metadata": {
  "kernelspec": {
   "display_name": "Python (py37)",
   "language": "python",
   "name": "py37"
  },
  "language_info": {
   "codemirror_mode": {
    "name": "ipython",
    "version": 3
   },
   "file_extension": ".py",
   "mimetype": "text/x-python",
   "name": "python",
   "nbconvert_exporter": "python",
   "pygments_lexer": "ipython3",
   "version": "3.7.4"
  }
 },
 "nbformat": 4,
 "nbformat_minor": 4
}
